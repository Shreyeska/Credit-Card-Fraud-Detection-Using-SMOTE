{
 "cells": [
  {
   "cell_type": "markdown",
   "id": "23368547",
   "metadata": {
    "papermill": {
     "duration": 0.01322,
     "end_time": "2024-11-25T15:59:32.236284",
     "exception": false,
     "start_time": "2024-11-25T15:59:32.223064",
     "status": "completed"
    },
    "tags": []
   },
   "source": [
    "# **ABOUT THE DATASET**\n"
   ]
  },
  {
   "cell_type": "markdown",
   "id": "36f472a7",
   "metadata": {
    "papermill": {
     "duration": 0.012304,
     "end_time": "2024-11-25T15:59:32.261898",
     "exception": false,
     "start_time": "2024-11-25T15:59:32.249594",
     "status": "completed"
    },
    "tags": []
   },
   "source": [
    "#### Context:\n",
    "\n",
    "Credit card companies need to detect fraudulent transactions to prevent customers from being charged for unauthorized purchases.\n",
    "\n",
    "#### Content:\n",
    "\n",
    "- **Dataset**: Transactions made by European cardholders in September 2013.\n",
    "- **Duration**: Two days, with 492 frauds out of 284,807 transactions.\n",
    "- **Class Imbalance**: Fraudulent transactions (positive class) account for 0.172% of all transactions.\n",
    "- **Features**:\n",
    "\n",
    "  - Numerical input variables resulting from PCA transformation.\n",
    "  - 'Time': Seconds elapsed between each transaction and the first transaction.\n",
    "  - 'Amount': Transaction amount, suitable for cost-sensitive learning.\n",
    "\n",
    "- **Target**:\n",
    "  - 'Class': Response variable, 1 for fraud, 0 otherwise.\n",
    "\n",
    "#### Source:\n",
    "\n",
    "- The dataset has been collected and analyzed by Worldline and the Machine Learning Group (MLG) of Université Libre de Bruxelles (ULB) as part of a research collaboration on big data mining and fraud detection.\n",
    "- More details on the current and past projects related to fraud detection are available on the [MLG website](http://mlg.ulb.ac.be) and [ResearchGate](https://www.researchgate.net/project/Fraud-detection-5).\n"
   ]
  },
  {
   "cell_type": "markdown",
   "id": "7ac86604",
   "metadata": {
    "papermill": {
     "duration": 0.014413,
     "end_time": "2024-11-25T15:59:32.288855",
     "exception": false,
     "start_time": "2024-11-25T15:59:32.274442",
     "status": "completed"
    },
    "tags": []
   },
   "source": [
    "#### Introduction\n",
    "\n",
    "Digital transactions are becoming the norm. Transactions are rapidly moving to the digital world to\n",
    "counteract paper money. For the smooth transactions, digital wallets are coming in to help with the\n",
    "smooth transition. But when it comes to money, every transaction must be secure. This report provides insights on how the imbalanced datasets and the models work together.\n",
    "To get further insights on developing a thorough fraud detection system, it is vital that the model and\n",
    "process get tested with public datasets first. Although the datasets provided online have a flag o some\n",
    "mark to test whether the detected transactions are fraudulent or not, it is imperative that the models\n",
    "detect fraudulent activities after being guided then move to the original dataset.\n"
   ]
  },
  {
   "cell_type": "markdown",
   "id": "168bfd7b",
   "metadata": {
    "papermill": {
     "duration": 0.012557,
     "end_time": "2024-11-25T15:59:32.315136",
     "exception": false,
     "start_time": "2024-11-25T15:59:32.302579",
     "status": "completed"
    },
    "tags": []
   },
   "source": [
    "### Methodology\n",
    "\n",
    "The fraud detection system worked in the following steps:\n",
    "\n",
    "1. Importing the necessary packages and dataset.\n",
    "2. Exploratory Data Analysis.\n",
    "3. Splitting the data into test and train.\n",
    "4. Using SMOTE into the train imbalanced dataset to balance it.\n",
    "5. Training the models with the training dataset\n",
    "6. Predicting the test dataset\n",
    "7. Comparing the prediction with the actual label\n",
    "8. Presenting the results via confusion matrix to see the TN, TP, FP, FN.\n",
    "9. Deriving con\n",
    "   lusions.\n",
    "   The three machine learning models selected for this process are: Decision Tree Classifier, Logistic\n",
    "   Regression, and Random Forest.\n"
   ]
  },
  {
   "cell_type": "markdown",
   "id": "97d427a0",
   "metadata": {
    "papermill": {
     "duration": 0.012188,
     "end_time": "2024-11-25T15:59:32.340079",
     "exception": false,
     "start_time": "2024-11-25T15:59:32.327891",
     "status": "completed"
    },
    "tags": []
   },
   "source": [
    "### Importing the Necessary Packages and dataset\n",
    "\n",
    "The project begins with importing essential Python libraries, including Pandas for data manipulation, Scikit-learn for machine learning tasks, and other relevant packages such as matplotlib and seaborn for Exploratory Data Analysis (EDA) and sk.learn for train/test split, model evaluation and classification report. After the packages are successfully imported, the dataset is loaded into a Pandas data frame(df) for further analysis.\n",
    "\n",
    "The dataset was extracted from Kaggle. It can be extracted from the following link\n",
    "https://www.kaggle.com/datasets/mlg-ulb/creditcardfraud\n"
   ]
  },
  {
   "cell_type": "code",
   "execution_count": 34,
   "id": "dec3dd18",
   "metadata": {
    "_cell_guid": "b1076dfc-b9ad-4769-8c92-a6c4dae69d19",
    "_uuid": "8f2839f25d086af736a60e9eeb907d3b93b6e0e5",
    "execution": {
     "iopub.execute_input": "2024-11-25T15:59:32.366948Z",
     "iopub.status.busy": "2024-11-25T15:59:32.366568Z",
     "iopub.status.idle": "2024-11-25T15:59:35.881555Z",
     "shell.execute_reply": "2024-11-25T15:59:35.880468Z"
    },
    "papermill": {
     "duration": 3.531424,
     "end_time": "2024-11-25T15:59:35.884197",
     "exception": false,
     "start_time": "2024-11-25T15:59:32.352773",
     "status": "completed"
    },
    "tags": []
   },
   "outputs": [],
   "source": [
    "#Importing all the necessary packages\n",
    "import pandas as pd\n",
    "from imblearn.over_sampling import SMOTE\n",
    "import matplotlib.pyplot as plt\n",
    "import numpy as np\n",
    "import seaborn as sns\n",
    "from sklearn.model_selection import train_test_split\n",
    "from sklearn.linear_model import LogisticRegression\n",
    "from sklearn.ensemble import RandomForestClassifier\n",
    "from sklearn.tree import DecisionTreeClassifier\n",
    "from sklearn.metrics import classification_report, confusion_matrix\n",
    "from sklearn.metrics import accuracy_score, recall_score, precision_score, ConfusionMatrixDisplay\n",
    "from collections import Counter\n",
    "from imblearn.under_sampling import OneSidedSelection\n",
    "\n",
    "\n",
    "import warnings\n",
    "# Ignore all warnings\n",
    "warnings.simplefilter(\"ignore\")"
   ]
  },
  {
   "cell_type": "code",
   "execution_count": null,
   "id": "b34c0f7d",
   "metadata": {},
   "outputs": [],
   "source": [
    "# Read the CSV file 'creditcard.csv' into a Pandas DataFrame named df\n",
    "df = pd.read_csv('/kaggle/input/creditcardfraud/creditcard.csv')"
   ]
  },
  {
   "cell_type": "markdown",
   "id": "e04b5ea1",
   "metadata": {
    "papermill": {
     "duration": 0.012185,
     "end_time": "2024-11-25T15:59:39.901744",
     "exception": false,
     "start_time": "2024-11-25T15:59:39.889559",
     "status": "completed"
    },
    "tags": []
   },
   "source": [
    "# **Exploratory Data Analysis**\n"
   ]
  },
  {
   "cell_type": "markdown",
   "id": "57d4627e",
   "metadata": {
    "papermill": {
     "duration": 0.013052,
     "end_time": "2024-11-25T15:59:39.927265",
     "exception": false,
     "start_time": "2024-11-25T15:59:39.914213",
     "status": "completed"
    },
    "tags": []
   },
   "source": [
    "Exploratory Data Analysis is conducted to gain insights into the dataset's characteristics. This involves\n",
    "summarizing the data's structure, identifying missing values, and analyzing the distribution of classes\n",
    "Key statistics, such as mean, median, and standard deviation, are calculated to provide an overview o\n",
    "the dataset. Visualizations, including histograms, scatter plots, and box plots, can be employed o\n",
    "uncover patterns, relationships, and potential anomalies. In this project, the dataset is mapped thr gh\n",
    "scatter plot to visualize the imbalance of the dataset.\n"
   ]
  },
  {
   "cell_type": "code",
   "execution_count": 36,
   "id": "54ca947d",
   "metadata": {
    "execution": {
     "iopub.execute_input": "2024-11-25T15:59:39.954709Z",
     "iopub.status.busy": "2024-11-25T15:59:39.954200Z",
     "iopub.status.idle": "2024-11-25T15:59:39.990566Z",
     "shell.execute_reply": "2024-11-25T15:59:39.989505Z"
    },
    "papermill": {
     "duration": 0.053194,
     "end_time": "2024-11-25T15:59:39.993164",
     "exception": false,
     "start_time": "2024-11-25T15:59:39.939970",
     "status": "completed"
    },
    "tags": []
   },
   "outputs": [
    {
     "data": {
      "text/html": [
       "<div>\n",
       "<style scoped>\n",
       "    .dataframe tbody tr th:only-of-type {\n",
       "        vertical-align: middle;\n",
       "    }\n",
       "\n",
       "    .dataframe tbody tr th {\n",
       "        vertical-align: top;\n",
       "    }\n",
       "\n",
       "    .dataframe thead th {\n",
       "        text-align: right;\n",
       "    }\n",
       "</style>\n",
       "<table border=\"1\" class=\"dataframe\">\n",
       "  <thead>\n",
       "    <tr style=\"text-align: right;\">\n",
       "      <th></th>\n",
       "      <th>Time</th>\n",
       "      <th>V1</th>\n",
       "      <th>V2</th>\n",
       "      <th>V3</th>\n",
       "      <th>V4</th>\n",
       "      <th>V5</th>\n",
       "      <th>V6</th>\n",
       "      <th>V7</th>\n",
       "      <th>V8</th>\n",
       "      <th>V9</th>\n",
       "      <th>...</th>\n",
       "      <th>V21</th>\n",
       "      <th>V22</th>\n",
       "      <th>V23</th>\n",
       "      <th>V24</th>\n",
       "      <th>V25</th>\n",
       "      <th>V26</th>\n",
       "      <th>V27</th>\n",
       "      <th>V28</th>\n",
       "      <th>Amount</th>\n",
       "      <th>Class</th>\n",
       "    </tr>\n",
       "  </thead>\n",
       "  <tbody>\n",
       "    <tr>\n",
       "      <th>0</th>\n",
       "      <td>0.0000000</td>\n",
       "      <td>-1.3598071</td>\n",
       "      <td>-0.0727812</td>\n",
       "      <td>2.5363467</td>\n",
       "      <td>1.3781552</td>\n",
       "      <td>-0.3383208</td>\n",
       "      <td>0.4623878</td>\n",
       "      <td>0.2395986</td>\n",
       "      <td>0.0986979</td>\n",
       "      <td>0.3637870</td>\n",
       "      <td>...</td>\n",
       "      <td>-0.0183068</td>\n",
       "      <td>0.2778376</td>\n",
       "      <td>-0.1104739</td>\n",
       "      <td>0.0669281</td>\n",
       "      <td>0.1285394</td>\n",
       "      <td>-0.1891148</td>\n",
       "      <td>0.1335584</td>\n",
       "      <td>-0.0210531</td>\n",
       "      <td>149.6200000</td>\n",
       "      <td>0</td>\n",
       "    </tr>\n",
       "    <tr>\n",
       "      <th>1</th>\n",
       "      <td>0.0000000</td>\n",
       "      <td>1.1918571</td>\n",
       "      <td>0.2661507</td>\n",
       "      <td>0.1664801</td>\n",
       "      <td>0.4481541</td>\n",
       "      <td>0.0600176</td>\n",
       "      <td>-0.0823608</td>\n",
       "      <td>-0.0788030</td>\n",
       "      <td>0.0851017</td>\n",
       "      <td>-0.2554251</td>\n",
       "      <td>...</td>\n",
       "      <td>-0.2257752</td>\n",
       "      <td>-0.6386720</td>\n",
       "      <td>0.1012880</td>\n",
       "      <td>-0.3398465</td>\n",
       "      <td>0.1671704</td>\n",
       "      <td>0.1258945</td>\n",
       "      <td>-0.0089831</td>\n",
       "      <td>0.0147242</td>\n",
       "      <td>2.6900000</td>\n",
       "      <td>0</td>\n",
       "    </tr>\n",
       "    <tr>\n",
       "      <th>2</th>\n",
       "      <td>1.0000000</td>\n",
       "      <td>-1.3583541</td>\n",
       "      <td>-1.3401631</td>\n",
       "      <td>1.7732093</td>\n",
       "      <td>0.3797796</td>\n",
       "      <td>-0.5031981</td>\n",
       "      <td>1.8004994</td>\n",
       "      <td>0.7914610</td>\n",
       "      <td>0.2476758</td>\n",
       "      <td>-1.5146543</td>\n",
       "      <td>...</td>\n",
       "      <td>0.2479982</td>\n",
       "      <td>0.7716794</td>\n",
       "      <td>0.9094123</td>\n",
       "      <td>-0.6892810</td>\n",
       "      <td>-0.3276418</td>\n",
       "      <td>-0.1390966</td>\n",
       "      <td>-0.0553528</td>\n",
       "      <td>-0.0597518</td>\n",
       "      <td>378.6600000</td>\n",
       "      <td>0</td>\n",
       "    </tr>\n",
       "    <tr>\n",
       "      <th>3</th>\n",
       "      <td>1.0000000</td>\n",
       "      <td>-0.9662717</td>\n",
       "      <td>-0.1852260</td>\n",
       "      <td>1.7929933</td>\n",
       "      <td>-0.8632913</td>\n",
       "      <td>-0.0103089</td>\n",
       "      <td>1.2472032</td>\n",
       "      <td>0.2376089</td>\n",
       "      <td>0.3774359</td>\n",
       "      <td>-1.3870241</td>\n",
       "      <td>...</td>\n",
       "      <td>-0.1083005</td>\n",
       "      <td>0.0052736</td>\n",
       "      <td>-0.1903205</td>\n",
       "      <td>-1.1755753</td>\n",
       "      <td>0.6473760</td>\n",
       "      <td>-0.2219288</td>\n",
       "      <td>0.0627228</td>\n",
       "      <td>0.0614576</td>\n",
       "      <td>123.5000000</td>\n",
       "      <td>0</td>\n",
       "    </tr>\n",
       "    <tr>\n",
       "      <th>4</th>\n",
       "      <td>2.0000000</td>\n",
       "      <td>-1.1582331</td>\n",
       "      <td>0.8777368</td>\n",
       "      <td>1.5487178</td>\n",
       "      <td>0.4030339</td>\n",
       "      <td>-0.4071934</td>\n",
       "      <td>0.0959215</td>\n",
       "      <td>0.5929407</td>\n",
       "      <td>-0.2705327</td>\n",
       "      <td>0.8177393</td>\n",
       "      <td>...</td>\n",
       "      <td>-0.0094307</td>\n",
       "      <td>0.7982785</td>\n",
       "      <td>-0.1374581</td>\n",
       "      <td>0.1412670</td>\n",
       "      <td>-0.2060096</td>\n",
       "      <td>0.5022922</td>\n",
       "      <td>0.2194222</td>\n",
       "      <td>0.2151531</td>\n",
       "      <td>69.9900000</td>\n",
       "      <td>0</td>\n",
       "    </tr>\n",
       "  </tbody>\n",
       "</table>\n",
       "<p>5 rows × 31 columns</p>\n",
       "</div>"
      ],
      "text/plain": [
       "       Time         V1         V2        V3         V4         V5         V6  \\\n",
       "0 0.0000000 -1.3598071 -0.0727812 2.5363467  1.3781552 -0.3383208  0.4623878   \n",
       "1 0.0000000  1.1918571  0.2661507 0.1664801  0.4481541  0.0600176 -0.0823608   \n",
       "2 1.0000000 -1.3583541 -1.3401631 1.7732093  0.3797796 -0.5031981  1.8004994   \n",
       "3 1.0000000 -0.9662717 -0.1852260 1.7929933 -0.8632913 -0.0103089  1.2472032   \n",
       "4 2.0000000 -1.1582331  0.8777368 1.5487178  0.4030339 -0.4071934  0.0959215   \n",
       "\n",
       "          V7         V8         V9  ...        V21        V22        V23  \\\n",
       "0  0.2395986  0.0986979  0.3637870  ... -0.0183068  0.2778376 -0.1104739   \n",
       "1 -0.0788030  0.0851017 -0.2554251  ... -0.2257752 -0.6386720  0.1012880   \n",
       "2  0.7914610  0.2476758 -1.5146543  ...  0.2479982  0.7716794  0.9094123   \n",
       "3  0.2376089  0.3774359 -1.3870241  ... -0.1083005  0.0052736 -0.1903205   \n",
       "4  0.5929407 -0.2705327  0.8177393  ... -0.0094307  0.7982785 -0.1374581   \n",
       "\n",
       "         V24        V25        V26        V27        V28      Amount  Class  \n",
       "0  0.0669281  0.1285394 -0.1891148  0.1335584 -0.0210531 149.6200000      0  \n",
       "1 -0.3398465  0.1671704  0.1258945 -0.0089831  0.0147242   2.6900000      0  \n",
       "2 -0.6892810 -0.3276418 -0.1390966 -0.0553528 -0.0597518 378.6600000      0  \n",
       "3 -1.1755753  0.6473760 -0.2219288  0.0627228  0.0614576 123.5000000      0  \n",
       "4  0.1412670 -0.2060096  0.5022922  0.2194222  0.2151531  69.9900000      0  \n",
       "\n",
       "[5 rows x 31 columns]"
      ]
     },
     "execution_count": 36,
     "metadata": {},
     "output_type": "execute_result"
    }
   ],
   "source": [
    "pd.options.display.float_format = '{:.7f}'.format\n",
    "df.head()"
   ]
  },
  {
   "cell_type": "code",
   "execution_count": 37,
   "id": "d737e940",
   "metadata": {
    "execution": {
     "iopub.execute_input": "2024-11-25T15:59:40.021592Z",
     "iopub.status.busy": "2024-11-25T15:59:40.021201Z",
     "iopub.status.idle": "2024-11-25T15:59:40.029562Z",
     "shell.execute_reply": "2024-11-25T15:59:40.028016Z"
    },
    "papermill": {
     "duration": 0.025341,
     "end_time": "2024-11-25T15:59:40.032235",
     "exception": false,
     "start_time": "2024-11-25T15:59:40.006894",
     "status": "completed"
    },
    "tags": []
   },
   "outputs": [
    {
     "data": {
      "text/plain": [
       "(284807, 31)"
      ]
     },
     "execution_count": 37,
     "metadata": {},
     "output_type": "execute_result"
    }
   ],
   "source": [
    "df.shape"
   ]
  },
  {
   "cell_type": "code",
   "execution_count": 38,
   "id": "93abb82b",
   "metadata": {
    "execution": {
     "iopub.execute_input": "2024-11-25T15:59:40.063621Z",
     "iopub.status.busy": "2024-11-25T15:59:40.063225Z",
     "iopub.status.idle": "2024-11-25T15:59:40.071265Z",
     "shell.execute_reply": "2024-11-25T15:59:40.069826Z"
    },
    "papermill": {
     "duration": 0.025973,
     "end_time": "2024-11-25T15:59:40.073753",
     "exception": false,
     "start_time": "2024-11-25T15:59:40.047780",
     "status": "completed"
    },
    "tags": []
   },
   "outputs": [
    {
     "data": {
      "text/plain": [
       "Index(['Time', 'V1', 'V2', 'V3', 'V4', 'V5', 'V6', 'V7', 'V8', 'V9', 'V10',\n",
       "       'V11', 'V12', 'V13', 'V14', 'V15', 'V16', 'V17', 'V18', 'V19', 'V20',\n",
       "       'V21', 'V22', 'V23', 'V24', 'V25', 'V26', 'V27', 'V28', 'Amount',\n",
       "       'Class'],\n",
       "      dtype='object')"
      ]
     },
     "execution_count": 38,
     "metadata": {},
     "output_type": "execute_result"
    }
   ],
   "source": [
    "df.columns"
   ]
  },
  {
   "cell_type": "code",
   "execution_count": 39,
   "id": "b2483167",
   "metadata": {
    "execution": {
     "iopub.execute_input": "2024-11-25T15:59:40.102603Z",
     "iopub.status.busy": "2024-11-25T15:59:40.102221Z",
     "iopub.status.idle": "2024-11-25T15:59:40.107447Z",
     "shell.execute_reply": "2024-11-25T15:59:40.106330Z"
    },
    "papermill": {
     "duration": 0.021807,
     "end_time": "2024-11-25T15:59:40.109724",
     "exception": false,
     "start_time": "2024-11-25T15:59:40.087917",
     "status": "completed"
    },
    "tags": []
   },
   "outputs": [],
   "source": [
    "pd.options.display.float_format = '{:.17f}'.format"
   ]
  },
  {
   "cell_type": "code",
   "execution_count": 40,
   "id": "c7196f7d",
   "metadata": {
    "execution": {
     "iopub.execute_input": "2024-11-25T15:59:40.138879Z",
     "iopub.status.busy": "2024-11-25T15:59:40.138491Z",
     "iopub.status.idle": "2024-11-25T15:59:40.621138Z",
     "shell.execute_reply": "2024-11-25T15:59:40.619949Z"
    },
    "papermill": {
     "duration": 0.500856,
     "end_time": "2024-11-25T15:59:40.623963",
     "exception": false,
     "start_time": "2024-11-25T15:59:40.123107",
     "status": "completed"
    },
    "tags": []
   },
   "outputs": [
    {
     "data": {
      "text/html": [
       "<div>\n",
       "<style scoped>\n",
       "    .dataframe tbody tr th:only-of-type {\n",
       "        vertical-align: middle;\n",
       "    }\n",
       "\n",
       "    .dataframe tbody tr th {\n",
       "        vertical-align: top;\n",
       "    }\n",
       "\n",
       "    .dataframe thead th {\n",
       "        text-align: right;\n",
       "    }\n",
       "</style>\n",
       "<table border=\"1\" class=\"dataframe\">\n",
       "  <thead>\n",
       "    <tr style=\"text-align: right;\">\n",
       "      <th></th>\n",
       "      <th>Time</th>\n",
       "      <th>V1</th>\n",
       "      <th>V2</th>\n",
       "      <th>V3</th>\n",
       "      <th>V4</th>\n",
       "      <th>V5</th>\n",
       "      <th>V6</th>\n",
       "      <th>V7</th>\n",
       "      <th>V8</th>\n",
       "      <th>V9</th>\n",
       "      <th>...</th>\n",
       "      <th>V21</th>\n",
       "      <th>V22</th>\n",
       "      <th>V23</th>\n",
       "      <th>V24</th>\n",
       "      <th>V25</th>\n",
       "      <th>V26</th>\n",
       "      <th>V27</th>\n",
       "      <th>V28</th>\n",
       "      <th>Amount</th>\n",
       "      <th>Class</th>\n",
       "    </tr>\n",
       "  </thead>\n",
       "  <tbody>\n",
       "    <tr>\n",
       "      <th>count</th>\n",
       "      <td>284807.00000000000000000</td>\n",
       "      <td>284807.00000000000000000</td>\n",
       "      <td>284807.00000000000000000</td>\n",
       "      <td>284807.00000000000000000</td>\n",
       "      <td>284807.00000000000000000</td>\n",
       "      <td>284807.00000000000000000</td>\n",
       "      <td>284807.00000000000000000</td>\n",
       "      <td>284807.00000000000000000</td>\n",
       "      <td>284807.00000000000000000</td>\n",
       "      <td>284807.00000000000000000</td>\n",
       "      <td>...</td>\n",
       "      <td>284807.00000000000000000</td>\n",
       "      <td>284807.00000000000000000</td>\n",
       "      <td>284807.00000000000000000</td>\n",
       "      <td>284807.00000000000000000</td>\n",
       "      <td>284807.00000000000000000</td>\n",
       "      <td>284807.00000000000000000</td>\n",
       "      <td>284807.00000000000000000</td>\n",
       "      <td>284807.00000000000000000</td>\n",
       "      <td>284807.00000000000000000</td>\n",
       "      <td>284807.00000000000000000</td>\n",
       "    </tr>\n",
       "    <tr>\n",
       "      <th>mean</th>\n",
       "      <td>94813.85957508067076560</td>\n",
       "      <td>0.00000000000000117</td>\n",
       "      <td>0.00000000000000034</td>\n",
       "      <td>-0.00000000000000138</td>\n",
       "      <td>0.00000000000000207</td>\n",
       "      <td>0.00000000000000096</td>\n",
       "      <td>0.00000000000000149</td>\n",
       "      <td>-0.00000000000000056</td>\n",
       "      <td>0.00000000000000012</td>\n",
       "      <td>-0.00000000000000241</td>\n",
       "      <td>...</td>\n",
       "      <td>0.00000000000000017</td>\n",
       "      <td>-0.00000000000000036</td>\n",
       "      <td>0.00000000000000026</td>\n",
       "      <td>0.00000000000000447</td>\n",
       "      <td>0.00000000000000053</td>\n",
       "      <td>0.00000000000000168</td>\n",
       "      <td>-0.00000000000000037</td>\n",
       "      <td>-0.00000000000000012</td>\n",
       "      <td>88.34961925093132606</td>\n",
       "      <td>0.00172748563062003</td>\n",
       "    </tr>\n",
       "    <tr>\n",
       "      <th>std</th>\n",
       "      <td>47488.14595456617098534</td>\n",
       "      <td>1.95869580385748576</td>\n",
       "      <td>1.65130857947699750</td>\n",
       "      <td>1.51625500517777190</td>\n",
       "      <td>1.41586857494092033</td>\n",
       "      <td>1.38024673403143949</td>\n",
       "      <td>1.33227108975757558</td>\n",
       "      <td>1.23709359818266629</td>\n",
       "      <td>1.19435290266920369</td>\n",
       "      <td>1.09863208922431932</td>\n",
       "      <td>...</td>\n",
       "      <td>0.73452401437131298</td>\n",
       "      <td>0.72570156044091161</td>\n",
       "      <td>0.62446029559499028</td>\n",
       "      <td>0.60564706782716016</td>\n",
       "      <td>0.52127807054094255</td>\n",
       "      <td>0.48222701326105727</td>\n",
       "      <td>0.40363249496503067</td>\n",
       "      <td>0.33008326416025091</td>\n",
       "      <td>250.12010924018849778</td>\n",
       "      <td>0.04152718963546506</td>\n",
       "    </tr>\n",
       "    <tr>\n",
       "      <th>min</th>\n",
       "      <td>0.00000000000000000</td>\n",
       "      <td>-56.40750963132899898</td>\n",
       "      <td>-72.71572756293029727</td>\n",
       "      <td>-48.32558936239539804</td>\n",
       "      <td>-5.68317119816995042</td>\n",
       "      <td>-113.74330671114600477</td>\n",
       "      <td>-26.16050593584330031</td>\n",
       "      <td>-43.55724157124510043</td>\n",
       "      <td>-73.21671845526739730</td>\n",
       "      <td>-13.43406631823009967</td>\n",
       "      <td>...</td>\n",
       "      <td>-34.83038214481459960</td>\n",
       "      <td>-10.93314369765499983</td>\n",
       "      <td>-44.80773520379130304</td>\n",
       "      <td>-2.83662691870341011</td>\n",
       "      <td>-10.29539707498510026</td>\n",
       "      <td>-2.60455055280817005</td>\n",
       "      <td>-22.56567932078269934</td>\n",
       "      <td>-15.43008390553490017</td>\n",
       "      <td>0.00000000000000000</td>\n",
       "      <td>0.00000000000000000</td>\n",
       "    </tr>\n",
       "    <tr>\n",
       "      <th>25%</th>\n",
       "      <td>54201.50000000000000000</td>\n",
       "      <td>-0.92037338439032201</td>\n",
       "      <td>-0.59854991346491604</td>\n",
       "      <td>-0.89036483815514056</td>\n",
       "      <td>-0.84864011633127301</td>\n",
       "      <td>-0.69159707088765754</td>\n",
       "      <td>-0.76829560846048905</td>\n",
       "      <td>-0.55407587903652256</td>\n",
       "      <td>-0.20862974403946649</td>\n",
       "      <td>-0.64309757026659153</td>\n",
       "      <td>...</td>\n",
       "      <td>-0.22839494677851702</td>\n",
       "      <td>-0.54235037266066155</td>\n",
       "      <td>-0.16184634501488449</td>\n",
       "      <td>-0.35458613640949849</td>\n",
       "      <td>-0.31714505406526999</td>\n",
       "      <td>-0.32698392588071951</td>\n",
       "      <td>-0.07083952930446921</td>\n",
       "      <td>-0.05295979301698090</td>\n",
       "      <td>5.59999999999999964</td>\n",
       "      <td>0.00000000000000000</td>\n",
       "    </tr>\n",
       "    <tr>\n",
       "      <th>50%</th>\n",
       "      <td>84692.00000000000000000</td>\n",
       "      <td>0.01810879916153090</td>\n",
       "      <td>0.06548555639605549</td>\n",
       "      <td>0.17984634356354401</td>\n",
       "      <td>-0.01984652948119890</td>\n",
       "      <td>-0.05433582673648580</td>\n",
       "      <td>-0.27418707650665097</td>\n",
       "      <td>0.04010308279453510</td>\n",
       "      <td>0.02235803643666310</td>\n",
       "      <td>-0.05142873155034900</td>\n",
       "      <td>...</td>\n",
       "      <td>-0.02945016769538190</td>\n",
       "      <td>0.00678194252826950</td>\n",
       "      <td>-0.01119293029672120</td>\n",
       "      <td>0.04097605605727980</td>\n",
       "      <td>0.01659350163673970</td>\n",
       "      <td>-0.05213910801820190</td>\n",
       "      <td>0.00134214597865020</td>\n",
       "      <td>0.01124383156498200</td>\n",
       "      <td>22.00000000000000000</td>\n",
       "      <td>0.00000000000000000</td>\n",
       "    </tr>\n",
       "    <tr>\n",
       "      <th>75%</th>\n",
       "      <td>139320.50000000000000000</td>\n",
       "      <td>1.31564169387786500</td>\n",
       "      <td>0.80372387124009448</td>\n",
       "      <td>1.02719554246555500</td>\n",
       "      <td>0.74334128946858757</td>\n",
       "      <td>0.61192643973519301</td>\n",
       "      <td>0.39856489635610504</td>\n",
       "      <td>0.57043607287759857</td>\n",
       "      <td>0.32734586192344900</td>\n",
       "      <td>0.59713903028226856</td>\n",
       "      <td>...</td>\n",
       "      <td>0.18637720337857550</td>\n",
       "      <td>0.52855363533398647</td>\n",
       "      <td>0.14764206385605000</td>\n",
       "      <td>0.43952660016818601</td>\n",
       "      <td>0.35071556286738598</td>\n",
       "      <td>0.24095217371475550</td>\n",
       "      <td>0.09104511968580689</td>\n",
       "      <td>0.07827995475782015</td>\n",
       "      <td>77.16499999999999204</td>\n",
       "      <td>0.00000000000000000</td>\n",
       "    </tr>\n",
       "    <tr>\n",
       "      <th>max</th>\n",
       "      <td>172792.00000000000000000</td>\n",
       "      <td>2.45492999121120992</td>\n",
       "      <td>22.05772899049090086</td>\n",
       "      <td>9.38255843282114022</td>\n",
       "      <td>16.87534403359750002</td>\n",
       "      <td>34.80166587666860067</td>\n",
       "      <td>73.30162554596459756</td>\n",
       "      <td>120.58949394523800436</td>\n",
       "      <td>20.00720836512130063</td>\n",
       "      <td>15.59499460712780028</td>\n",
       "      <td>...</td>\n",
       "      <td>27.20283915731539892</td>\n",
       "      <td>10.50309008994540072</td>\n",
       "      <td>22.52841168977489872</td>\n",
       "      <td>4.58454913689817012</td>\n",
       "      <td>7.51958867870915970</td>\n",
       "      <td>3.51734561162380022</td>\n",
       "      <td>31.61219810613630088</td>\n",
       "      <td>33.84780781888309775</td>\n",
       "      <td>25691.15999999999985448</td>\n",
       "      <td>1.00000000000000000</td>\n",
       "    </tr>\n",
       "  </tbody>\n",
       "</table>\n",
       "<p>8 rows × 31 columns</p>\n",
       "</div>"
      ],
      "text/plain": [
       "                          Time                       V1  \\\n",
       "count 284807.00000000000000000 284807.00000000000000000   \n",
       "mean   94813.85957508067076560      0.00000000000000117   \n",
       "std    47488.14595456617098534      1.95869580385748576   \n",
       "min        0.00000000000000000    -56.40750963132899898   \n",
       "25%    54201.50000000000000000     -0.92037338439032201   \n",
       "50%    84692.00000000000000000      0.01810879916153090   \n",
       "75%   139320.50000000000000000      1.31564169387786500   \n",
       "max   172792.00000000000000000      2.45492999121120992   \n",
       "\n",
       "                            V2                       V3  \\\n",
       "count 284807.00000000000000000 284807.00000000000000000   \n",
       "mean       0.00000000000000034     -0.00000000000000138   \n",
       "std        1.65130857947699750      1.51625500517777190   \n",
       "min      -72.71572756293029727    -48.32558936239539804   \n",
       "25%       -0.59854991346491604     -0.89036483815514056   \n",
       "50%        0.06548555639605549      0.17984634356354401   \n",
       "75%        0.80372387124009448      1.02719554246555500   \n",
       "max       22.05772899049090086      9.38255843282114022   \n",
       "\n",
       "                            V4                       V5  \\\n",
       "count 284807.00000000000000000 284807.00000000000000000   \n",
       "mean       0.00000000000000207      0.00000000000000096   \n",
       "std        1.41586857494092033      1.38024673403143949   \n",
       "min       -5.68317119816995042   -113.74330671114600477   \n",
       "25%       -0.84864011633127301     -0.69159707088765754   \n",
       "50%       -0.01984652948119890     -0.05433582673648580   \n",
       "75%        0.74334128946858757      0.61192643973519301   \n",
       "max       16.87534403359750002     34.80166587666860067   \n",
       "\n",
       "                            V6                       V7  \\\n",
       "count 284807.00000000000000000 284807.00000000000000000   \n",
       "mean       0.00000000000000149     -0.00000000000000056   \n",
       "std        1.33227108975757558      1.23709359818266629   \n",
       "min      -26.16050593584330031    -43.55724157124510043   \n",
       "25%       -0.76829560846048905     -0.55407587903652256   \n",
       "50%       -0.27418707650665097      0.04010308279453510   \n",
       "75%        0.39856489635610504      0.57043607287759857   \n",
       "max       73.30162554596459756    120.58949394523800436   \n",
       "\n",
       "                            V8                       V9  ...  \\\n",
       "count 284807.00000000000000000 284807.00000000000000000  ...   \n",
       "mean       0.00000000000000012     -0.00000000000000241  ...   \n",
       "std        1.19435290266920369      1.09863208922431932  ...   \n",
       "min      -73.21671845526739730    -13.43406631823009967  ...   \n",
       "25%       -0.20862974403946649     -0.64309757026659153  ...   \n",
       "50%        0.02235803643666310     -0.05142873155034900  ...   \n",
       "75%        0.32734586192344900      0.59713903028226856  ...   \n",
       "max       20.00720836512130063     15.59499460712780028  ...   \n",
       "\n",
       "                           V21                      V22  \\\n",
       "count 284807.00000000000000000 284807.00000000000000000   \n",
       "mean       0.00000000000000017     -0.00000000000000036   \n",
       "std        0.73452401437131298      0.72570156044091161   \n",
       "min      -34.83038214481459960    -10.93314369765499983   \n",
       "25%       -0.22839494677851702     -0.54235037266066155   \n",
       "50%       -0.02945016769538190      0.00678194252826950   \n",
       "75%        0.18637720337857550      0.52855363533398647   \n",
       "max       27.20283915731539892     10.50309008994540072   \n",
       "\n",
       "                           V23                      V24  \\\n",
       "count 284807.00000000000000000 284807.00000000000000000   \n",
       "mean       0.00000000000000026      0.00000000000000447   \n",
       "std        0.62446029559499028      0.60564706782716016   \n",
       "min      -44.80773520379130304     -2.83662691870341011   \n",
       "25%       -0.16184634501488449     -0.35458613640949849   \n",
       "50%       -0.01119293029672120      0.04097605605727980   \n",
       "75%        0.14764206385605000      0.43952660016818601   \n",
       "max       22.52841168977489872      4.58454913689817012   \n",
       "\n",
       "                           V25                      V26  \\\n",
       "count 284807.00000000000000000 284807.00000000000000000   \n",
       "mean       0.00000000000000053      0.00000000000000168   \n",
       "std        0.52127807054094255      0.48222701326105727   \n",
       "min      -10.29539707498510026     -2.60455055280817005   \n",
       "25%       -0.31714505406526999     -0.32698392588071951   \n",
       "50%        0.01659350163673970     -0.05213910801820190   \n",
       "75%        0.35071556286738598      0.24095217371475550   \n",
       "max        7.51958867870915970      3.51734561162380022   \n",
       "\n",
       "                           V27                      V28  \\\n",
       "count 284807.00000000000000000 284807.00000000000000000   \n",
       "mean      -0.00000000000000037     -0.00000000000000012   \n",
       "std        0.40363249496503067      0.33008326416025091   \n",
       "min      -22.56567932078269934    -15.43008390553490017   \n",
       "25%       -0.07083952930446921     -0.05295979301698090   \n",
       "50%        0.00134214597865020      0.01124383156498200   \n",
       "75%        0.09104511968580689      0.07827995475782015   \n",
       "max       31.61219810613630088     33.84780781888309775   \n",
       "\n",
       "                        Amount                    Class  \n",
       "count 284807.00000000000000000 284807.00000000000000000  \n",
       "mean      88.34961925093132606      0.00172748563062003  \n",
       "std      250.12010924018849778      0.04152718963546506  \n",
       "min        0.00000000000000000      0.00000000000000000  \n",
       "25%        5.59999999999999964      0.00000000000000000  \n",
       "50%       22.00000000000000000      0.00000000000000000  \n",
       "75%       77.16499999999999204      0.00000000000000000  \n",
       "max    25691.15999999999985448      1.00000000000000000  \n",
       "\n",
       "[8 rows x 31 columns]"
      ]
     },
     "execution_count": 40,
     "metadata": {},
     "output_type": "execute_result"
    }
   ],
   "source": [
    "df.describe()"
   ]
  },
  {
   "cell_type": "code",
   "execution_count": 41,
   "id": "06ce76a8",
   "metadata": {
    "execution": {
     "iopub.execute_input": "2024-11-25T15:59:40.654931Z",
     "iopub.status.busy": "2024-11-25T15:59:40.654560Z",
     "iopub.status.idle": "2024-11-25T15:59:40.676210Z",
     "shell.execute_reply": "2024-11-25T15:59:40.675091Z"
    },
    "papermill": {
     "duration": 0.039677,
     "end_time": "2024-11-25T15:59:40.678842",
     "exception": false,
     "start_time": "2024-11-25T15:59:40.639165",
     "status": "completed"
    },
    "tags": []
   },
   "outputs": [
    {
     "data": {
      "text/plain": [
       "Time      0\n",
       "V1        0\n",
       "V2        0\n",
       "V3        0\n",
       "V4        0\n",
       "V5        0\n",
       "V6        0\n",
       "V7        0\n",
       "V8        0\n",
       "V9        0\n",
       "V10       0\n",
       "V11       0\n",
       "V12       0\n",
       "V13       0\n",
       "V14       0\n",
       "V15       0\n",
       "V16       0\n",
       "V17       0\n",
       "V18       0\n",
       "V19       0\n",
       "V20       0\n",
       "V21       0\n",
       "V22       0\n",
       "V23       0\n",
       "V24       0\n",
       "V25       0\n",
       "V26       0\n",
       "V27       0\n",
       "V28       0\n",
       "Amount    0\n",
       "Class     0\n",
       "dtype: int64"
      ]
     },
     "execution_count": 41,
     "metadata": {},
     "output_type": "execute_result"
    }
   ],
   "source": [
    "df.isnull().sum() "
   ]
  },
  {
   "cell_type": "code",
   "execution_count": 42,
   "id": "3d945c00",
   "metadata": {
    "execution": {
     "iopub.execute_input": "2024-11-25T15:59:40.708148Z",
     "iopub.status.busy": "2024-11-25T15:59:40.707723Z",
     "iopub.status.idle": "2024-11-25T15:59:40.746316Z",
     "shell.execute_reply": "2024-11-25T15:59:40.744738Z"
    },
    "papermill": {
     "duration": 0.055927,
     "end_time": "2024-11-25T15:59:40.748674",
     "exception": false,
     "start_time": "2024-11-25T15:59:40.692747",
     "status": "completed"
    },
    "tags": []
   },
   "outputs": [
    {
     "name": "stdout",
     "output_type": "stream",
     "text": [
      "<class 'pandas.core.frame.DataFrame'>\n",
      "RangeIndex: 284807 entries, 0 to 284806\n",
      "Data columns (total 31 columns):\n",
      " #   Column  Non-Null Count   Dtype  \n",
      "---  ------  --------------   -----  \n",
      " 0   Time    284807 non-null  float64\n",
      " 1   V1      284807 non-null  float64\n",
      " 2   V2      284807 non-null  float64\n",
      " 3   V3      284807 non-null  float64\n",
      " 4   V4      284807 non-null  float64\n",
      " 5   V5      284807 non-null  float64\n",
      " 6   V6      284807 non-null  float64\n",
      " 7   V7      284807 non-null  float64\n",
      " 8   V8      284807 non-null  float64\n",
      " 9   V9      284807 non-null  float64\n",
      " 10  V10     284807 non-null  float64\n",
      " 11  V11     284807 non-null  float64\n",
      " 12  V12     284807 non-null  float64\n",
      " 13  V13     284807 non-null  float64\n",
      " 14  V14     284807 non-null  float64\n",
      " 15  V15     284807 non-null  float64\n",
      " 16  V16     284807 non-null  float64\n",
      " 17  V17     284807 non-null  float64\n",
      " 18  V18     284807 non-null  float64\n",
      " 19  V19     284807 non-null  float64\n",
      " 20  V20     284807 non-null  float64\n",
      " 21  V21     284807 non-null  float64\n",
      " 22  V22     284807 non-null  float64\n",
      " 23  V23     284807 non-null  float64\n",
      " 24  V24     284807 non-null  float64\n",
      " 25  V25     284807 non-null  float64\n",
      " 26  V26     284807 non-null  float64\n",
      " 27  V27     284807 non-null  float64\n",
      " 28  V28     284807 non-null  float64\n",
      " 29  Amount  284807 non-null  float64\n",
      " 30  Class   284807 non-null  int64  \n",
      "dtypes: float64(30), int64(1)\n",
      "memory usage: 67.4 MB\n"
     ]
    }
   ],
   "source": [
    "df.info()"
   ]
  },
  {
   "cell_type": "code",
   "execution_count": 43,
   "id": "4241932a",
   "metadata": {
    "execution": {
     "iopub.execute_input": "2024-11-25T15:59:40.780351Z",
     "iopub.status.busy": "2024-11-25T15:59:40.779922Z",
     "iopub.status.idle": "2024-11-25T15:59:40.913113Z",
     "shell.execute_reply": "2024-11-25T15:59:40.911970Z"
    },
    "papermill": {
     "duration": 0.151512,
     "end_time": "2024-11-25T15:59:40.915322",
     "exception": false,
     "start_time": "2024-11-25T15:59:40.763810",
     "status": "completed"
    },
    "tags": []
   },
   "outputs": [
    {
     "data": {
      "text/html": [
       "<div>\n",
       "<style scoped>\n",
       "    .dataframe tbody tr th:only-of-type {\n",
       "        vertical-align: middle;\n",
       "    }\n",
       "\n",
       "    .dataframe tbody tr th {\n",
       "        vertical-align: top;\n",
       "    }\n",
       "\n",
       "    .dataframe thead th {\n",
       "        text-align: right;\n",
       "    }\n",
       "</style>\n",
       "<table border=\"1\" class=\"dataframe\">\n",
       "  <thead>\n",
       "    <tr style=\"text-align: right;\">\n",
       "      <th></th>\n",
       "      <th>Time</th>\n",
       "      <th>V1</th>\n",
       "      <th>V2</th>\n",
       "      <th>V3</th>\n",
       "      <th>V4</th>\n",
       "      <th>V5</th>\n",
       "      <th>V6</th>\n",
       "      <th>V7</th>\n",
       "      <th>V8</th>\n",
       "      <th>V9</th>\n",
       "      <th>...</th>\n",
       "      <th>V20</th>\n",
       "      <th>V21</th>\n",
       "      <th>V22</th>\n",
       "      <th>V23</th>\n",
       "      <th>V24</th>\n",
       "      <th>V25</th>\n",
       "      <th>V26</th>\n",
       "      <th>V27</th>\n",
       "      <th>V28</th>\n",
       "      <th>Amount</th>\n",
       "    </tr>\n",
       "    <tr>\n",
       "      <th>Class</th>\n",
       "      <th></th>\n",
       "      <th></th>\n",
       "      <th></th>\n",
       "      <th></th>\n",
       "      <th></th>\n",
       "      <th></th>\n",
       "      <th></th>\n",
       "      <th></th>\n",
       "      <th></th>\n",
       "      <th></th>\n",
       "      <th></th>\n",
       "      <th></th>\n",
       "      <th></th>\n",
       "      <th></th>\n",
       "      <th></th>\n",
       "      <th></th>\n",
       "      <th></th>\n",
       "      <th></th>\n",
       "      <th></th>\n",
       "      <th></th>\n",
       "      <th></th>\n",
       "    </tr>\n",
       "  </thead>\n",
       "  <tbody>\n",
       "    <tr>\n",
       "      <th>0</th>\n",
       "      <td>94838.20225805883819703</td>\n",
       "      <td>0.00825773748556370</td>\n",
       "      <td>-0.00627085741580706</td>\n",
       "      <td>0.01217091703184534</td>\n",
       "      <td>-0.00785986782046521</td>\n",
       "      <td>0.00545311588864745</td>\n",
       "      <td>0.00241874843610736</td>\n",
       "      <td>0.00963654992948408</td>\n",
       "      <td>-0.00098747115166529</td>\n",
       "      <td>0.00446656869133597</td>\n",
       "      <td>...</td>\n",
       "      <td>-0.00064428940688807</td>\n",
       "      <td>-0.00123484680552540</td>\n",
       "      <td>-0.00002431123934031</td>\n",
       "      <td>0.00006975192742793</td>\n",
       "      <td>0.00018192536544853</td>\n",
       "      <td>-0.00007172626324029</td>\n",
       "      <td>-0.00008937579014912</td>\n",
       "      <td>-0.00029517541383411</td>\n",
       "      <td>-0.00013094035488017</td>\n",
       "      <td>88.29102242231327580</td>\n",
       "    </tr>\n",
       "    <tr>\n",
       "      <th>1</th>\n",
       "      <td>80746.80691056911018677</td>\n",
       "      <td>-4.77194844147908181</td>\n",
       "      <td>3.62377810198228056</td>\n",
       "      <td>-7.03328104859655845</td>\n",
       "      <td>4.54202910442309271</td>\n",
       "      <td>-3.15122488593600458</td>\n",
       "      <td>-1.39773671059235149</td>\n",
       "      <td>-5.56873108374273951</td>\n",
       "      <td>0.57063589529623782</td>\n",
       "      <td>-2.58112292170299540</td>\n",
       "      <td>...</td>\n",
       "      <td>0.37231939577147166</td>\n",
       "      <td>0.71358835266870058</td>\n",
       "      <td>0.01404888214012134</td>\n",
       "      <td>-0.04030796594836945</td>\n",
       "      <td>-0.10513030543948290</td>\n",
       "      <td>0.04144888726282707</td>\n",
       "      <td>0.05164812556245366</td>\n",
       "      <td>0.17057479224418595</td>\n",
       "      <td>0.07566729064577460</td>\n",
       "      <td>122.21132113821138887</td>\n",
       "    </tr>\n",
       "  </tbody>\n",
       "</table>\n",
       "<p>2 rows × 30 columns</p>\n",
       "</div>"
      ],
      "text/plain": [
       "                         Time                   V1                   V2  \\\n",
       "Class                                                                     \n",
       "0     94838.20225805883819703  0.00825773748556370 -0.00627085741580706   \n",
       "1     80746.80691056911018677 -4.77194844147908181  3.62377810198228056   \n",
       "\n",
       "                        V3                   V4                   V5  \\\n",
       "Class                                                                  \n",
       "0      0.01217091703184534 -0.00785986782046521  0.00545311588864745   \n",
       "1     -7.03328104859655845  4.54202910442309271 -3.15122488593600458   \n",
       "\n",
       "                        V6                   V7                   V8  \\\n",
       "Class                                                                  \n",
       "0      0.00241874843610736  0.00963654992948408 -0.00098747115166529   \n",
       "1     -1.39773671059235149 -5.56873108374273951  0.57063589529623782   \n",
       "\n",
       "                        V9  ...                  V20                  V21  \\\n",
       "Class                       ...                                             \n",
       "0      0.00446656869133597  ... -0.00064428940688807 -0.00123484680552540   \n",
       "1     -2.58112292170299540  ...  0.37231939577147166  0.71358835266870058   \n",
       "\n",
       "                       V22                  V23                  V24  \\\n",
       "Class                                                                  \n",
       "0     -0.00002431123934031  0.00006975192742793  0.00018192536544853   \n",
       "1      0.01404888214012134 -0.04030796594836945 -0.10513030543948290   \n",
       "\n",
       "                       V25                  V26                  V27  \\\n",
       "Class                                                                  \n",
       "0     -0.00007172626324029 -0.00008937579014912 -0.00029517541383411   \n",
       "1      0.04144888726282707  0.05164812556245366  0.17057479224418595   \n",
       "\n",
       "                       V28                Amount  \n",
       "Class                                             \n",
       "0     -0.00013094035488017  88.29102242231327580  \n",
       "1      0.07566729064577460 122.21132113821138887  \n",
       "\n",
       "[2 rows x 30 columns]"
      ]
     },
     "execution_count": 43,
     "metadata": {},
     "output_type": "execute_result"
    }
   ],
   "source": [
    "# Get the mean for each group\n",
    "df.groupby('Class').mean()"
   ]
  },
  {
   "cell_type": "code",
   "execution_count": 44,
   "id": "2a4979e2",
   "metadata": {
    "execution": {
     "iopub.execute_input": "2024-11-25T15:59:40.948066Z",
     "iopub.status.busy": "2024-11-25T15:59:40.947649Z",
     "iopub.status.idle": "2024-11-25T15:59:40.959220Z",
     "shell.execute_reply": "2024-11-25T15:59:40.958109Z"
    },
    "papermill": {
     "duration": 0.031651,
     "end_time": "2024-11-25T15:59:40.961665",
     "exception": false,
     "start_time": "2024-11-25T15:59:40.930014",
     "status": "completed"
    },
    "tags": []
   },
   "outputs": [
    {
     "data": {
      "text/plain": [
       "Class\n",
       "0    284315\n",
       "1       492\n",
       "Name: count, dtype: int64"
      ]
     },
     "execution_count": 44,
     "metadata": {},
     "output_type": "execute_result"
    }
   ],
   "source": [
    "#To display the count of fraud vs. non-fraud transactions \n",
    "df['Class'].value_counts()"
   ]
  },
  {
   "cell_type": "code",
   "execution_count": 45,
   "id": "e5ce9dec",
   "metadata": {
    "execution": {
     "iopub.execute_input": "2024-11-25T15:59:40.991534Z",
     "iopub.status.busy": "2024-11-25T15:59:40.991169Z",
     "iopub.status.idle": "2024-11-25T15:59:41.000077Z",
     "shell.execute_reply": "2024-11-25T15:59:40.998828Z"
    },
    "papermill": {
     "duration": 0.02678,
     "end_time": "2024-11-25T15:59:41.002504",
     "exception": false,
     "start_time": "2024-11-25T15:59:40.975724",
     "status": "completed"
    },
    "tags": []
   },
   "outputs": [
    {
     "name": "stdout",
     "output_type": "stream",
     "text": [
      "Class\n",
      "0   0.99827251436937992\n",
      "1   0.00172748563062003\n",
      "Name: count, dtype: float64\n"
     ]
    }
   ],
   "source": [
    "#Ratio of Fraud Counts\n",
    "print(df['Class'].value_counts()/len(df))"
   ]
  },
  {
   "cell_type": "code",
   "execution_count": 46,
   "id": "dfe90322",
   "metadata": {
    "execution": {
     "iopub.execute_input": "2024-11-25T15:59:41.033202Z",
     "iopub.status.busy": "2024-11-25T15:59:41.032807Z",
     "iopub.status.idle": "2024-11-25T15:59:45.698047Z",
     "shell.execute_reply": "2024-11-25T15:59:45.696439Z"
    },
    "papermill": {
     "duration": 4.684083,
     "end_time": "2024-11-25T15:59:45.700734",
     "exception": false,
     "start_time": "2024-11-25T15:59:41.016651",
     "status": "completed"
    },
    "tags": []
   },
   "outputs": [
    {
     "data": {
      "image/png": "[encoded data removed]",
      "text/plain": [
       "<Figure size 640x480 with 1 Axes>"
      ]
     },
     "metadata": {},
     "output_type": "display_data"
    }
   ],
   "source": [
    "# Define a function to create a scatter plot of our data and labels\n",
    "def plot_data(X, y):\n",
    "\tplt.scatter(X[y == 0, 0], X[y == 0, 1], label=\"Legitimate\", alpha=0.5, linewidth=0.15,)\n",
    "\tplt.scatter(X[y == 1, 0], X[y == 1, 1], label=\"Fraudulent\", alpha=0.5, linewidth=0.15, c='r')\n",
    "\tplt.legend()\n",
    "\treturn plt.show()\n",
    "\n",
    "def prep_data(df):\n",
    "    # Split the data into features and labels\n",
    "    X = df.drop(columns=['Class']).values\n",
    "    y = df['Class'].values\n",
    "    return X, y\n",
    "\n",
    "\n",
    "X, y = prep_data(df)\n",
    "plot_data(X, y)"
   ]
  },
  {
   "cell_type": "markdown",
   "id": "ed746915",
   "metadata": {
    "papermill": {
     "duration": 0.015589,
     "end_time": "2024-11-25T15:59:45.734230",
     "exception": false,
     "start_time": "2024-11-25T15:59:45.718641",
     "status": "completed"
    },
    "tags": []
   },
   "source": [
    "**Figure 1:** Scatter plot of the Original Dataset\n"
   ]
  },
  {
   "cell_type": "markdown",
   "id": "8bbeccf3",
   "metadata": {
    "papermill": {
     "duration": 0.015815,
     "end_time": "2024-11-25T15:59:45.832394",
     "exception": false,
     "start_time": "2024-11-25T15:59:45.816579",
     "status": "completed"
    },
    "tags": []
   },
   "source": [
    "# Data Spliting\n",
    "\n",
    "Following the EDA, the dataset is divided into training and test sets. This step ensures that the models can be trained on one subset of data while being evaluated on a separate, unseen subset. Given the imbalance in the dataset, where one class is significantly underrepresented, the training dataset is balanced using SMOTE (Synthetic Minority Over-sampling Technique). SMOTE generates synthetic samples of the minority class to address this imbalance (more explained later).\n"
   ]
  },
  {
   "cell_type": "code",
   "execution_count": 47,
   "id": "42f30064",
   "metadata": {
    "execution": {
     "iopub.execute_input": "2024-11-25T15:59:45.866314Z",
     "iopub.status.busy": "2024-11-25T15:59:45.865922Z",
     "iopub.status.idle": "2024-11-25T15:59:46.010089Z",
     "shell.execute_reply": "2024-11-25T15:59:46.008820Z"
    },
    "papermill": {
     "duration": 0.16477,
     "end_time": "2024-11-25T15:59:46.013392",
     "exception": false,
     "start_time": "2024-11-25T15:59:45.848622",
     "status": "completed"
    },
    "tags": []
   },
   "outputs": [],
   "source": [
    "X_train, X_test, y_train, y_test = train_test_split(X, y, test_size=0.3, random_state=0)"
   ]
  },
  {
   "cell_type": "code",
   "execution_count": 48,
   "id": "80d47f43",
   "metadata": {
    "execution": {
     "iopub.execute_input": "2024-11-25T15:59:46.049498Z",
     "iopub.status.busy": "2024-11-25T15:59:46.049120Z",
     "iopub.status.idle": "2024-11-25T15:59:46.056376Z",
     "shell.execute_reply": "2024-11-25T15:59:46.055131Z"
    },
    "papermill": {
     "duration": 0.028618,
     "end_time": "2024-11-25T15:59:46.058879",
     "exception": false,
     "start_time": "2024-11-25T15:59:46.030261",
     "status": "completed"
    },
    "tags": []
   },
   "outputs": [
    {
     "data": {
      "text/plain": [
       "(85443, 30)"
      ]
     },
     "execution_count": 48,
     "metadata": {},
     "output_type": "execute_result"
    }
   ],
   "source": [
    "X_test.shape"
   ]
  },
  {
   "cell_type": "code",
   "execution_count": 49,
   "id": "6a29fe9e",
   "metadata": {
    "execution": {
     "iopub.execute_input": "2024-11-25T15:59:46.093865Z",
     "iopub.status.busy": "2024-11-25T15:59:46.093464Z",
     "iopub.status.idle": "2024-11-25T15:59:46.099993Z",
     "shell.execute_reply": "2024-11-25T15:59:46.098963Z"
    },
    "papermill": {
     "duration": 0.026419,
     "end_time": "2024-11-25T15:59:46.102189",
     "exception": false,
     "start_time": "2024-11-25T15:59:46.075770",
     "status": "completed"
    },
    "tags": []
   },
   "outputs": [
    {
     "data": {
      "text/plain": [
       "(199364, 30)"
      ]
     },
     "execution_count": 49,
     "metadata": {},
     "output_type": "execute_result"
    }
   ],
   "source": [
    "X_train.shape"
   ]
  },
  {
   "cell_type": "code",
   "execution_count": 50,
   "id": "c1f3c179",
   "metadata": {
    "execution": {
     "iopub.execute_input": "2024-11-25T15:59:46.136443Z",
     "iopub.status.busy": "2024-11-25T15:59:46.136059Z",
     "iopub.status.idle": "2024-11-25T15:59:46.144353Z",
     "shell.execute_reply": "2024-11-25T15:59:46.143001Z"
    },
    "papermill": {
     "duration": 0.029153,
     "end_time": "2024-11-25T15:59:46.147379",
     "exception": false,
     "start_time": "2024-11-25T15:59:46.118226",
     "status": "completed"
    },
    "tags": []
   },
   "outputs": [
    {
     "name": "stdout",
     "output_type": "stream",
     "text": [
      "0    199019\n",
      "1       345\n",
      "Name: count, dtype: int64\n"
     ]
    }
   ],
   "source": [
    "print(pd.value_counts(pd.Series(y_train)))"
   ]
  },
  {
   "cell_type": "code",
   "execution_count": 51,
   "id": "c825ac59",
   "metadata": {
    "execution": {
     "iopub.execute_input": "2024-11-25T15:59:46.182650Z",
     "iopub.status.busy": "2024-11-25T15:59:46.182297Z",
     "iopub.status.idle": "2024-11-25T15:59:46.190082Z",
     "shell.execute_reply": "2024-11-25T15:59:46.188666Z"
    },
    "papermill": {
     "duration": 0.028202,
     "end_time": "2024-11-25T15:59:46.192274",
     "exception": false,
     "start_time": "2024-11-25T15:59:46.164072",
     "status": "completed"
    },
    "tags": []
   },
   "outputs": [
    {
     "name": "stdout",
     "output_type": "stream",
     "text": [
      "0    85296\n",
      "1      147\n",
      "Name: count, dtype: int64\n"
     ]
    }
   ],
   "source": [
    "print(pd.value_counts(pd.Series(y_test)))"
   ]
  },
  {
   "cell_type": "markdown",
   "id": "8e43a9fc",
   "metadata": {
    "papermill": {
     "duration": 0.018035,
     "end_time": "2024-11-25T15:59:46.227931",
     "exception": false,
     "start_time": "2024-11-25T15:59:46.209896",
     "status": "completed"
    },
    "tags": []
   },
   "source": [
    "# SMOTE (Synthetic Minority Oversampling Technique)\n",
    "\n",
    "SMOTE stands for Synthetic Minority Oversampling Technique. It is a method used to balance datasets\n",
    "where one class (say fraudulent cases) is much smaller than the other classes (here, legitimate\n",
    "transactions cases). It helps create more examples of the minority class by generating synthetic data points.\n",
    "\n",
    "### Working Mechanisms:\n",
    "\n",
    "**1.** Identify the Minority Class: Identify the underrepresented class in the dataset.\n",
    "\n",
    "**2.** Synthetic Sample Generation: For each data point in the minority class, SMOTE generates\n",
    "new, similar data points by mixing features of the existing points to create new ones.\n",
    "\n",
    "**3.** Data Augmentation: The newly created points are added to the dataset, making the minority\n",
    "class more balanced with the majority class.\n",
    "\n",
    "### Advantages:\n",
    "\n",
    "- Improves model performance by providing a more balanced dataset.\n",
    "- Reduces overfitting as the synthetic samples are generated based on existing data points.\n",
    "\n",
    "### Considerations:\n",
    "\n",
    "- May increase computational complexity.\n",
    "- Requires careful tuning of parameters like the number of neighbors to avoid generating noisy\n",
    "  data.\n"
   ]
  },
  {
   "cell_type": "code",
   "execution_count": 52,
   "id": "a7f4a70b",
   "metadata": {
    "execution": {
     "iopub.execute_input": "2024-11-25T15:59:46.263138Z",
     "iopub.status.busy": "2024-11-25T15:59:46.262712Z",
     "iopub.status.idle": "2024-11-25T15:59:51.654978Z",
     "shell.execute_reply": "2024-11-25T15:59:51.653512Z"
    },
    "papermill": {
     "duration": 5.41313,
     "end_time": "2024-11-25T15:59:51.657872",
     "exception": false,
     "start_time": "2024-11-25T15:59:46.244742",
     "status": "completed"
    },
    "tags": []
   },
   "outputs": [
    {
     "data": {
      "image/png": "[encoded data removed]",
      "text/plain": [
       "<Figure size 640x480 with 1 Axes>"
      ]
     },
     "metadata": {},
     "output_type": "display_data"
    }
   ],
   "source": [
    "#Oversample the minority using SMOTE\n",
    "method=SMOTE()\n",
    "X_resampled, y_resampled = method.fit_resample(X_train, y_train)\n",
    "plot_data(X_resampled, y_resampled)"
   ]
  },
  {
   "cell_type": "markdown",
   "id": "850344f0",
   "metadata": {
    "papermill": {
     "duration": 0.017917,
     "end_time": "2024-11-25T15:59:51.693578",
     "exception": false,
     "start_time": "2024-11-25T15:59:51.675661",
     "status": "completed"
    },
    "tags": []
   },
   "source": [
    "**Figure 2:** Implementation of SMOTE in an imbalanced dataset\n"
   ]
  },
  {
   "cell_type": "code",
   "execution_count": 53,
   "id": "c07cc4a8",
   "metadata": {
    "execution": {
     "iopub.execute_input": "2024-11-25T15:59:51.732109Z",
     "iopub.status.busy": "2024-11-25T15:59:51.731697Z",
     "iopub.status.idle": "2024-11-25T15:59:51.764752Z",
     "shell.execute_reply": "2024-11-25T15:59:51.763589Z"
    },
    "papermill": {
     "duration": 0.054552,
     "end_time": "2024-11-25T15:59:51.767384",
     "exception": false,
     "start_time": "2024-11-25T15:59:51.712832",
     "status": "completed"
    },
    "tags": []
   },
   "outputs": [],
   "source": [
    "X_test = df.drop(columns=['Class']).values\n",
    "y_test = df['Class'].values\n",
    "\n",
    "X_resampled_df = pd.DataFrame(X_resampled, columns=df.columns.drop('Class'))\n",
    "y_resampled_df = pd.DataFrame(y_resampled, columns=['Class'])"
   ]
  },
  {
   "cell_type": "code",
   "execution_count": 54,
   "id": "4dcf9d85",
   "metadata": {
    "execution": {
     "iopub.execute_input": "2024-11-25T15:59:51.805087Z",
     "iopub.status.busy": "2024-11-25T15:59:51.804675Z",
     "iopub.status.idle": "2024-11-25T15:59:51.813859Z",
     "shell.execute_reply": "2024-11-25T15:59:51.812673Z"
    },
    "papermill": {
     "duration": 0.03148,
     "end_time": "2024-11-25T15:59:51.816656",
     "exception": false,
     "start_time": "2024-11-25T15:59:51.785176",
     "status": "completed"
    },
    "tags": []
   },
   "outputs": [
    {
     "name": "stdout",
     "output_type": "stream",
     "text": [
      "0    199019\n",
      "1    199019\n",
      "Name: count, dtype: int64\n"
     ]
    }
   ],
   "source": [
    "print(pd.value_counts(pd.Series(y_resampled)))"
   ]
  },
  {
   "cell_type": "code",
   "execution_count": 55,
   "id": "db090ffc",
   "metadata": {
    "execution": {
     "iopub.execute_input": "2024-11-25T15:59:51.853696Z",
     "iopub.status.busy": "2024-11-25T15:59:51.853314Z",
     "iopub.status.idle": "2024-11-25T15:59:51.859839Z",
     "shell.execute_reply": "2024-11-25T15:59:51.858809Z"
    },
    "papermill": {
     "duration": 0.027472,
     "end_time": "2024-11-25T15:59:51.861922",
     "exception": false,
     "start_time": "2024-11-25T15:59:51.834450",
     "status": "completed"
    },
    "tags": []
   },
   "outputs": [
    {
     "data": {
      "text/plain": [
       "(284807, 31)"
      ]
     },
     "execution_count": 55,
     "metadata": {},
     "output_type": "execute_result"
    }
   ],
   "source": [
    "df.shape"
   ]
  },
  {
   "cell_type": "code",
   "execution_count": 56,
   "id": "2a15b924",
   "metadata": {
    "execution": {
     "iopub.execute_input": "2024-11-25T15:59:51.898705Z",
     "iopub.status.busy": "2024-11-25T15:59:51.898324Z",
     "iopub.status.idle": "2024-11-25T15:59:52.070285Z",
     "shell.execute_reply": "2024-11-25T15:59:52.068993Z"
    },
    "papermill": {
     "duration": 0.192812,
     "end_time": "2024-11-25T15:59:52.072424",
     "exception": false,
     "start_time": "2024-11-25T15:59:51.879612",
     "status": "completed"
    },
    "tags": []
   },
   "outputs": [
    {
     "name": "stdout",
     "output_type": "stream",
     "text": [
      "Resampled DataFrame:\n"
     ]
    },
    {
     "data": {
      "text/html": [
       "<div>\n",
       "<style scoped>\n",
       "    .dataframe tbody tr th:only-of-type {\n",
       "        vertical-align: middle;\n",
       "    }\n",
       "\n",
       "    .dataframe tbody tr th {\n",
       "        vertical-align: top;\n",
       "    }\n",
       "\n",
       "    .dataframe thead th {\n",
       "        text-align: right;\n",
       "    }\n",
       "</style>\n",
       "<table border=\"1\" class=\"dataframe\">\n",
       "  <thead>\n",
       "    <tr style=\"text-align: right;\">\n",
       "      <th></th>\n",
       "      <th>Time</th>\n",
       "      <th>V1</th>\n",
       "      <th>V2</th>\n",
       "      <th>V3</th>\n",
       "      <th>V4</th>\n",
       "      <th>V5</th>\n",
       "      <th>V6</th>\n",
       "      <th>V7</th>\n",
       "      <th>V8</th>\n",
       "      <th>V9</th>\n",
       "      <th>...</th>\n",
       "      <th>V21</th>\n",
       "      <th>V22</th>\n",
       "      <th>V23</th>\n",
       "      <th>V24</th>\n",
       "      <th>V25</th>\n",
       "      <th>V26</th>\n",
       "      <th>V27</th>\n",
       "      <th>V28</th>\n",
       "      <th>Amount</th>\n",
       "      <th>Class</th>\n",
       "    </tr>\n",
       "  </thead>\n",
       "  <tbody>\n",
       "    <tr>\n",
       "      <th>0</th>\n",
       "      <td>113921.00000000000000000</td>\n",
       "      <td>-0.13206625955969101</td>\n",
       "      <td>0.10704355070308499</td>\n",
       "      <td>-0.65058817298528004</td>\n",
       "      <td>-0.99603226797581601</td>\n",
       "      <td>1.81433323189868001</td>\n",
       "      <td>1.74074026929169001</td>\n",
       "      <td>0.49685179480458003</td>\n",
       "      <td>0.63301590375369199</td>\n",
       "      <td>0.01718094327879720</td>\n",
       "      <td>...</td>\n",
       "      <td>-0.06248864713076400</td>\n",
       "      <td>0.00529241164028680</td>\n",
       "      <td>0.25151860625716399</td>\n",
       "      <td>-2.46681020740764989</td>\n",
       "      <td>-0.88969037341326396</td>\n",
       "      <td>0.33746247421711700</td>\n",
       "      <td>0.30639465733219201</td>\n",
       "      <td>0.07481696634050040</td>\n",
       "      <td>47.89000000000000057</td>\n",
       "      <td>0</td>\n",
       "    </tr>\n",
       "    <tr>\n",
       "      <th>1</th>\n",
       "      <td>135319.00000000000000000</td>\n",
       "      <td>2.12599440988093003</td>\n",
       "      <td>0.01420740554701070</td>\n",
       "      <td>-1.51476030793728000</td>\n",
       "      <td>0.11502080879019200</td>\n",
       "      <td>0.59851021928783399</td>\n",
       "      <td>-0.33323504892148598</td>\n",
       "      <td>0.19928927855189199</td>\n",
       "      <td>-0.26435319778232702</td>\n",
       "      <td>0.38411067230537999</td>\n",
       "      <td>...</td>\n",
       "      <td>-0.32936789583723303</td>\n",
       "      <td>-0.78815006974856705</td>\n",
       "      <td>0.26772994908170200</td>\n",
       "      <td>0.06612158511576870</td>\n",
       "      <td>-0.13578463547105399</td>\n",
       "      <td>0.20384112872263899</td>\n",
       "      <td>-0.06826737943486590</td>\n",
       "      <td>-0.05767758831964260</td>\n",
       "      <td>1.97999999999999998</td>\n",
       "      <td>0</td>\n",
       "    </tr>\n",
       "    <tr>\n",
       "      <th>2</th>\n",
       "      <td>125498.00000000000000000</td>\n",
       "      <td>-0.08669397004139950</td>\n",
       "      <td>0.16624022263171601</td>\n",
       "      <td>1.57312699970049996</td>\n",
       "      <td>0.68726578565938101</td>\n",
       "      <td>0.22235888363338699</td>\n",
       "      <td>1.10260588367202006</td>\n",
       "      <td>1.57509329400154008</td>\n",
       "      <td>-1.09860846099620990</td>\n",
       "      <td>0.76388654265200995</td>\n",
       "      <td>...</td>\n",
       "      <td>0.01532437859555830</td>\n",
       "      <td>1.06366314870865009</td>\n",
       "      <td>-0.41084082399577698</td>\n",
       "      <td>0.72272347514468605</td>\n",
       "      <td>-0.17173331224300800</td>\n",
       "      <td>-0.61354259866390504</td>\n",
       "      <td>-1.20157064595420993</td>\n",
       "      <td>-1.13993068336935011</td>\n",
       "      <td>170.09999999999999432</td>\n",
       "      <td>0</td>\n",
       "    </tr>\n",
       "    <tr>\n",
       "      <th>3</th>\n",
       "      <td>33520.00000000000000000</td>\n",
       "      <td>1.35233923289461999</td>\n",
       "      <td>-0.53498432179745103</td>\n",
       "      <td>0.55514265017087605</td>\n",
       "      <td>-0.62935514317490604</td>\n",
       "      <td>-1.14416971869082995</td>\n",
       "      <td>-0.85296713982027195</td>\n",
       "      <td>-0.64212845775575900</td>\n",
       "      <td>-0.03265896296456100</td>\n",
       "      <td>-0.65448207157456695</td>\n",
       "      <td>...</td>\n",
       "      <td>-0.01481422977565890</td>\n",
       "      <td>-0.18037854096168399</td>\n",
       "      <td>0.17811168774754499</td>\n",
       "      <td>0.34771981641746802</td>\n",
       "      <td>0.15180986796357199</td>\n",
       "      <td>-0.40436116266440902</td>\n",
       "      <td>0.01374605767124570</td>\n",
       "      <td>0.01615225235748240</td>\n",
       "      <td>5.95999999999999996</td>\n",
       "      <td>0</td>\n",
       "    </tr>\n",
       "    <tr>\n",
       "      <th>4</th>\n",
       "      <td>145152.00000000000000000</td>\n",
       "      <td>-1.52675980311880011</td>\n",
       "      <td>0.64778189280610299</td>\n",
       "      <td>0.61539121667366103</td>\n",
       "      <td>-0.56111396427582805</td>\n",
       "      <td>0.83694990082468601</td>\n",
       "      <td>-0.51425078091902099</td>\n",
       "      <td>0.98432487690588399</td>\n",
       "      <td>-0.09742972673638590</td>\n",
       "      <td>-0.06263449729200039</td>\n",
       "      <td>...</td>\n",
       "      <td>-0.22153298849368300</td>\n",
       "      <td>-0.39315828973919897</td>\n",
       "      <td>-0.21498978419877901</td>\n",
       "      <td>0.58844685679006903</td>\n",
       "      <td>0.67949615367925498</td>\n",
       "      <td>0.51843361767290497</td>\n",
       "      <td>0.06502178783682180</td>\n",
       "      <td>0.14729395314056501</td>\n",
       "      <td>89.95000000000000284</td>\n",
       "      <td>0</td>\n",
       "    </tr>\n",
       "  </tbody>\n",
       "</table>\n",
       "<p>5 rows × 31 columns</p>\n",
       "</div>"
      ],
      "text/plain": [
       "                      Time                   V1                   V2  \\\n",
       "0 113921.00000000000000000 -0.13206625955969101  0.10704355070308499   \n",
       "1 135319.00000000000000000  2.12599440988093003  0.01420740554701070   \n",
       "2 125498.00000000000000000 -0.08669397004139950  0.16624022263171601   \n",
       "3  33520.00000000000000000  1.35233923289461999 -0.53498432179745103   \n",
       "4 145152.00000000000000000 -1.52675980311880011  0.64778189280610299   \n",
       "\n",
       "                    V3                   V4                   V5  \\\n",
       "0 -0.65058817298528004 -0.99603226797581601  1.81433323189868001   \n",
       "1 -1.51476030793728000  0.11502080879019200  0.59851021928783399   \n",
       "2  1.57312699970049996  0.68726578565938101  0.22235888363338699   \n",
       "3  0.55514265017087605 -0.62935514317490604 -1.14416971869082995   \n",
       "4  0.61539121667366103 -0.56111396427582805  0.83694990082468601   \n",
       "\n",
       "                    V6                   V7                   V8  \\\n",
       "0  1.74074026929169001  0.49685179480458003  0.63301590375369199   \n",
       "1 -0.33323504892148598  0.19928927855189199 -0.26435319778232702   \n",
       "2  1.10260588367202006  1.57509329400154008 -1.09860846099620990   \n",
       "3 -0.85296713982027195 -0.64212845775575900 -0.03265896296456100   \n",
       "4 -0.51425078091902099  0.98432487690588399 -0.09742972673638590   \n",
       "\n",
       "                    V9  ...                  V21                  V22  \\\n",
       "0  0.01718094327879720  ... -0.06248864713076400  0.00529241164028680   \n",
       "1  0.38411067230537999  ... -0.32936789583723303 -0.78815006974856705   \n",
       "2  0.76388654265200995  ...  0.01532437859555830  1.06366314870865009   \n",
       "3 -0.65448207157456695  ... -0.01481422977565890 -0.18037854096168399   \n",
       "4 -0.06263449729200039  ... -0.22153298849368300 -0.39315828973919897   \n",
       "\n",
       "                   V23                  V24                  V25  \\\n",
       "0  0.25151860625716399 -2.46681020740764989 -0.88969037341326396   \n",
       "1  0.26772994908170200  0.06612158511576870 -0.13578463547105399   \n",
       "2 -0.41084082399577698  0.72272347514468605 -0.17173331224300800   \n",
       "3  0.17811168774754499  0.34771981641746802  0.15180986796357199   \n",
       "4 -0.21498978419877901  0.58844685679006903  0.67949615367925498   \n",
       "\n",
       "                   V26                  V27                  V28  \\\n",
       "0  0.33746247421711700  0.30639465733219201  0.07481696634050040   \n",
       "1  0.20384112872263899 -0.06826737943486590 -0.05767758831964260   \n",
       "2 -0.61354259866390504 -1.20157064595420993 -1.13993068336935011   \n",
       "3 -0.40436116266440902  0.01374605767124570  0.01615225235748240   \n",
       "4  0.51843361767290497  0.06502178783682180  0.14729395314056501   \n",
       "\n",
       "                 Amount  Class  \n",
       "0  47.89000000000000057      0  \n",
       "1   1.97999999999999998      0  \n",
       "2 170.09999999999999432      0  \n",
       "3   5.95999999999999996      0  \n",
       "4  89.95000000000000284      0  \n",
       "\n",
       "[5 rows x 31 columns]"
      ]
     },
     "execution_count": 56,
     "metadata": {},
     "output_type": "execute_result"
    }
   ],
   "source": [
    "df_resampled = pd.concat([X_resampled_df, y_resampled_df], axis=1)\n",
    "\n",
    "# Print the resampled DataFrame\n",
    "print(\"Resampled DataFrame:\")\n",
    "df_resampled.head()"
   ]
  },
  {
   "cell_type": "code",
   "execution_count": 57,
   "id": "9b26e5c2",
   "metadata": {
    "execution": {
     "iopub.execute_input": "2024-11-25T15:59:52.110889Z",
     "iopub.status.busy": "2024-11-25T15:59:52.110488Z",
     "iopub.status.idle": "2024-11-25T15:59:52.147993Z",
     "shell.execute_reply": "2024-11-25T15:59:52.146742Z"
    },
    "papermill": {
     "duration": 0.059549,
     "end_time": "2024-11-25T15:59:52.150652",
     "exception": false,
     "start_time": "2024-11-25T15:59:52.091103",
     "status": "completed"
    },
    "tags": []
   },
   "outputs": [
    {
     "name": "stdout",
     "output_type": "stream",
     "text": [
      "<class 'pandas.core.frame.DataFrame'>\n",
      "RangeIndex: 398038 entries, 0 to 398037\n",
      "Data columns (total 31 columns):\n",
      " #   Column  Non-Null Count   Dtype  \n",
      "---  ------  --------------   -----  \n",
      " 0   Time    398038 non-null  float64\n",
      " 1   V1      398038 non-null  float64\n",
      " 2   V2      398038 non-null  float64\n",
      " 3   V3      398038 non-null  float64\n",
      " 4   V4      398038 non-null  float64\n",
      " 5   V5      398038 non-null  float64\n",
      " 6   V6      398038 non-null  float64\n",
      " 7   V7      398038 non-null  float64\n",
      " 8   V8      398038 non-null  float64\n",
      " 9   V9      398038 non-null  float64\n",
      " 10  V10     398038 non-null  float64\n",
      " 11  V11     398038 non-null  float64\n",
      " 12  V12     398038 non-null  float64\n",
      " 13  V13     398038 non-null  float64\n",
      " 14  V14     398038 non-null  float64\n",
      " 15  V15     398038 non-null  float64\n",
      " 16  V16     398038 non-null  float64\n",
      " 17  V17     398038 non-null  float64\n",
      " 18  V18     398038 non-null  float64\n",
      " 19  V19     398038 non-null  float64\n",
      " 20  V20     398038 non-null  float64\n",
      " 21  V21     398038 non-null  float64\n",
      " 22  V22     398038 non-null  float64\n",
      " 23  V23     398038 non-null  float64\n",
      " 24  V24     398038 non-null  float64\n",
      " 25  V25     398038 non-null  float64\n",
      " 26  V26     398038 non-null  float64\n",
      " 27  V27     398038 non-null  float64\n",
      " 28  V28     398038 non-null  float64\n",
      " 29  Amount  398038 non-null  float64\n",
      " 30  Class   398038 non-null  int64  \n",
      "dtypes: float64(30), int64(1)\n",
      "memory usage: 94.1 MB\n"
     ]
    }
   ],
   "source": [
    "df_resampled.info()"
   ]
  },
  {
   "cell_type": "code",
   "execution_count": 58,
   "id": "ef93d1e6",
   "metadata": {
    "execution": {
     "iopub.execute_input": "2024-11-25T15:59:52.189473Z",
     "iopub.status.busy": "2024-11-25T15:59:52.189095Z",
     "iopub.status.idle": "2024-11-25T15:59:52.195009Z",
     "shell.execute_reply": "2024-11-25T15:59:52.193727Z"
    },
    "papermill": {
     "duration": 0.028508,
     "end_time": "2024-11-25T15:59:52.197704",
     "exception": false,
     "start_time": "2024-11-25T15:59:52.169196",
     "status": "completed"
    },
    "tags": []
   },
   "outputs": [
    {
     "name": "stdout",
     "output_type": "stream",
     "text": [
      "(398038, 30)\n"
     ]
    }
   ],
   "source": [
    "print(X_resampled.shape)"
   ]
  },
  {
   "cell_type": "code",
   "execution_count": 59,
   "id": "9879db84",
   "metadata": {
    "execution": {
     "iopub.execute_input": "2024-11-25T15:59:52.236416Z",
     "iopub.status.busy": "2024-11-25T15:59:52.236061Z",
     "iopub.status.idle": "2024-11-25T15:59:52.241451Z",
     "shell.execute_reply": "2024-11-25T15:59:52.240257Z"
    },
    "papermill": {
     "duration": 0.028431,
     "end_time": "2024-11-25T15:59:52.244582",
     "exception": false,
     "start_time": "2024-11-25T15:59:52.216151",
     "status": "completed"
    },
    "tags": []
   },
   "outputs": [
    {
     "name": "stdout",
     "output_type": "stream",
     "text": [
      "(398038,)\n"
     ]
    }
   ],
   "source": [
    "print(y_resampled.shape)"
   ]
  },
  {
   "cell_type": "code",
   "execution_count": 60,
   "id": "77b59b72",
   "metadata": {
    "execution": {
     "iopub.execute_input": "2024-11-25T15:59:52.284859Z",
     "iopub.status.busy": "2024-11-25T15:59:52.284421Z",
     "iopub.status.idle": "2024-11-25T15:59:52.310242Z",
     "shell.execute_reply": "2024-11-25T15:59:52.309049Z"
    },
    "papermill": {
     "duration": 0.049589,
     "end_time": "2024-11-25T15:59:52.312522",
     "exception": false,
     "start_time": "2024-11-25T15:59:52.262933",
     "status": "completed"
    },
    "tags": []
   },
   "outputs": [
    {
     "name": "stdout",
     "output_type": "stream",
     "text": [
      "<class 'pandas.core.frame.DataFrame'>\n",
      "RangeIndex: 284807 entries, 0 to 284806\n",
      "Data columns (total 31 columns):\n",
      " #   Column  Non-Null Count   Dtype  \n",
      "---  ------  --------------   -----  \n",
      " 0   Time    284807 non-null  float64\n",
      " 1   V1      284807 non-null  float64\n",
      " 2   V2      284807 non-null  float64\n",
      " 3   V3      284807 non-null  float64\n",
      " 4   V4      284807 non-null  float64\n",
      " 5   V5      284807 non-null  float64\n",
      " 6   V6      284807 non-null  float64\n",
      " 7   V7      284807 non-null  float64\n",
      " 8   V8      284807 non-null  float64\n",
      " 9   V9      284807 non-null  float64\n",
      " 10  V10     284807 non-null  float64\n",
      " 11  V11     284807 non-null  float64\n",
      " 12  V12     284807 non-null  float64\n",
      " 13  V13     284807 non-null  float64\n",
      " 14  V14     284807 non-null  float64\n",
      " 15  V15     284807 non-null  float64\n",
      " 16  V16     284807 non-null  float64\n",
      " 17  V17     284807 non-null  float64\n",
      " 18  V18     284807 non-null  float64\n",
      " 19  V19     284807 non-null  float64\n",
      " 20  V20     284807 non-null  float64\n",
      " 21  V21     284807 non-null  float64\n",
      " 22  V22     284807 non-null  float64\n",
      " 23  V23     284807 non-null  float64\n",
      " 24  V24     284807 non-null  float64\n",
      " 25  V25     284807 non-null  float64\n",
      " 26  V26     284807 non-null  float64\n",
      " 27  V27     284807 non-null  float64\n",
      " 28  V28     284807 non-null  float64\n",
      " 29  Amount  284807 non-null  float64\n",
      " 30  Class   284807 non-null  int64  \n",
      "dtypes: float64(30), int64(1)\n",
      "memory usage: 67.4 MB\n"
     ]
    }
   ],
   "source": [
    "df.info()"
   ]
  },
  {
   "cell_type": "code",
   "execution_count": 61,
   "id": "cdb8b9b5",
   "metadata": {
    "execution": {
     "iopub.execute_input": "2024-11-25T15:59:52.350814Z",
     "iopub.status.busy": "2024-11-25T15:59:52.350432Z",
     "iopub.status.idle": "2024-11-25T16:00:02.568518Z",
     "shell.execute_reply": "2024-11-25T16:00:02.567395Z"
    },
    "papermill": {
     "duration": 10.241555,
     "end_time": "2024-11-25T16:00:02.572296",
     "exception": false,
     "start_time": "2024-11-25T15:59:52.330741",
     "status": "completed"
    },
    "tags": []
   },
   "outputs": [
    {
     "data": {
      "image/png": "[encoded data removed]",
      "text/plain": [
       "<Figure size 1200x600 with 2 Axes>"
      ]
     },
     "metadata": {},
     "output_type": "display_data"
    }
   ],
   "source": [
    "#Compare the original data with the resampled data\n",
    "\n",
    "def compare_plot(X, y, X_resampled, y_resampled, method):\n",
    "    #original Data\n",
    "    plt.figure(figsize=(12, 6))\n",
    "    plt.subplot(1, 2, 1)\n",
    "    plt.scatter(X[y == 0][:, 0], X[y == 0][:, 1], label=\"Legitimate\", alpha=0.5, linewidth=0.15)\n",
    "    plt.scatter(X[y == 1][:, 0], X[y == 1][:, 1], label=\"Fraudulent\", alpha=0.5, linewidth=0.15, c='r')\n",
    "    plt.title('Original Data')\n",
    "    plt.legend()\n",
    "\n",
    "    plt.subplot(1, 2, 2)\n",
    "    plt.scatter(X_resampled[y_resampled == 0][:, 0], X_resampled[y_resampled == 0][:, 1], label=\"Legitimate\", alpha=0.5, linewidth=0.15)\n",
    "    plt.scatter(X_resampled[y_resampled == 1][:, 0], X_resampled[y_resampled == 1][:, 1], label=\"Fraudulent\", alpha=0.5, linewidth=0.15, c='r')\n",
    "    plt.title(f'Resampled Data using {method}')\n",
    "    plt.legend()\n",
    "\n",
    "    plt.show()\n",
    "\n",
    "\n",
    "# Run compare_plot\n",
    "compare_plot(X, y, X_resampled, y_resampled, method='SMOTE') "
   ]
  },
  {
   "cell_type": "markdown",
   "id": "9f7d57aa",
   "metadata": {
    "papermill": {
     "duration": 0.020396,
     "end_time": "2024-11-25T16:00:02.613841",
     "exception": false,
     "start_time": "2024-11-25T16:00:02.593445",
     "status": "completed"
    },
    "tags": []
   },
   "source": [
    "**Figure 3:** Implementation of SMOTE in an imbalanced dataset\n",
    "\n",
    "The above figure shows before and after of the dataset. The red dots in the figure represent the\n",
    "fraudulent transaction dataset. The blue dots represent legitimate transaction. The original dataset has few red dots. This means that there are very few fraudulent transactions in comparison to the\n",
    "legitimate transactions. This is an ideal dataset. But to train the model and let it not become biased towards legitimate transactions, SMOTE is performed such that the selected models train equally to give more accurate and balanced accuracy. After the data sets are balanced, it trains the dataset with the help of the selected models.\n"
   ]
  },
  {
   "cell_type": "code",
   "execution_count": 62,
   "id": "93c066da",
   "metadata": {
    "execution": {
     "iopub.execute_input": "2024-11-25T16:00:02.659217Z",
     "iopub.status.busy": "2024-11-25T16:00:02.658780Z",
     "iopub.status.idle": "2024-11-25T16:00:02.669969Z",
     "shell.execute_reply": "2024-11-25T16:00:02.668688Z"
    },
    "papermill": {
     "duration": 0.036717,
     "end_time": "2024-11-25T16:00:02.672423",
     "exception": false,
     "start_time": "2024-11-25T16:00:02.635706",
     "status": "completed"
    },
    "tags": []
   },
   "outputs": [
    {
     "data": {
      "text/plain": [
       "Class\n",
       "0    284315\n",
       "1       492\n",
       "Name: count, dtype: int64"
      ]
     },
     "execution_count": 62,
     "metadata": {},
     "output_type": "execute_result"
    }
   ],
   "source": [
    "#Before Resampling\n",
    "df['Class'].value_counts()"
   ]
  },
  {
   "cell_type": "code",
   "execution_count": 63,
   "id": "4a6dec05",
   "metadata": {
    "execution": {
     "iopub.execute_input": "2024-11-25T16:00:02.721617Z",
     "iopub.status.busy": "2024-11-25T16:00:02.721220Z",
     "iopub.status.idle": "2024-11-25T16:00:02.731785Z",
     "shell.execute_reply": "2024-11-25T16:00:02.730455Z"
    },
    "papermill": {
     "duration": 0.038105,
     "end_time": "2024-11-25T16:00:02.734323",
     "exception": false,
     "start_time": "2024-11-25T16:00:02.696218",
     "status": "completed"
    },
    "tags": []
   },
   "outputs": [
    {
     "name": "stdout",
     "output_type": "stream",
     "text": [
      "0    199019\n",
      "1    199019\n",
      "Name: count, dtype: int64\n"
     ]
    }
   ],
   "source": [
    "#After Resampling\n",
    "# Print the value_counts on the resampled labels y_resampled\n",
    "print(pd.value_counts(pd.Series(y_resampled)))"
   ]
  },
  {
   "cell_type": "code",
   "execution_count": 64,
   "id": "eb01ec2d",
   "metadata": {
    "execution": {
     "iopub.execute_input": "2024-11-25T16:00:02.780908Z",
     "iopub.status.busy": "2024-11-25T16:00:02.780413Z",
     "iopub.status.idle": "2024-11-25T16:00:02.921060Z",
     "shell.execute_reply": "2024-11-25T16:00:02.919127Z"
    },
    "papermill": {
     "duration": 0.166929,
     "end_time": "2024-11-25T16:00:02.923461",
     "exception": false,
     "start_time": "2024-11-25T16:00:02.756532",
     "status": "completed"
    },
    "tags": []
   },
   "outputs": [
    {
     "data": {
      "text/html": [
       "<div>\n",
       "<style scoped>\n",
       "    .dataframe tbody tr th:only-of-type {\n",
       "        vertical-align: middle;\n",
       "    }\n",
       "\n",
       "    .dataframe tbody tr th {\n",
       "        vertical-align: top;\n",
       "    }\n",
       "\n",
       "    .dataframe thead th {\n",
       "        text-align: right;\n",
       "    }\n",
       "</style>\n",
       "<table border=\"1\" class=\"dataframe\">\n",
       "  <thead>\n",
       "    <tr style=\"text-align: right;\">\n",
       "      <th></th>\n",
       "      <th>Time</th>\n",
       "      <th>V1</th>\n",
       "      <th>V2</th>\n",
       "      <th>V3</th>\n",
       "      <th>V4</th>\n",
       "      <th>V5</th>\n",
       "      <th>V6</th>\n",
       "      <th>V7</th>\n",
       "      <th>V8</th>\n",
       "      <th>V9</th>\n",
       "      <th>...</th>\n",
       "      <th>V20</th>\n",
       "      <th>V21</th>\n",
       "      <th>V22</th>\n",
       "      <th>V23</th>\n",
       "      <th>V24</th>\n",
       "      <th>V25</th>\n",
       "      <th>V26</th>\n",
       "      <th>V27</th>\n",
       "      <th>V28</th>\n",
       "      <th>Amount</th>\n",
       "    </tr>\n",
       "    <tr>\n",
       "      <th>Class</th>\n",
       "      <th></th>\n",
       "      <th></th>\n",
       "      <th></th>\n",
       "      <th></th>\n",
       "      <th></th>\n",
       "      <th></th>\n",
       "      <th></th>\n",
       "      <th></th>\n",
       "      <th></th>\n",
       "      <th></th>\n",
       "      <th></th>\n",
       "      <th></th>\n",
       "      <th></th>\n",
       "      <th></th>\n",
       "      <th></th>\n",
       "      <th></th>\n",
       "      <th></th>\n",
       "      <th></th>\n",
       "      <th></th>\n",
       "      <th></th>\n",
       "      <th></th>\n",
       "    </tr>\n",
       "  </thead>\n",
       "  <tbody>\n",
       "    <tr>\n",
       "      <th>0</th>\n",
       "      <td>94838.20225805883819703</td>\n",
       "      <td>0.00825773748556370</td>\n",
       "      <td>-0.00627085741580706</td>\n",
       "      <td>0.01217091703184534</td>\n",
       "      <td>-0.00785986782046521</td>\n",
       "      <td>0.00545311588864745</td>\n",
       "      <td>0.00241874843610736</td>\n",
       "      <td>0.00963654992948408</td>\n",
       "      <td>-0.00098747115166529</td>\n",
       "      <td>0.00446656869133597</td>\n",
       "      <td>...</td>\n",
       "      <td>-0.00064428940688807</td>\n",
       "      <td>-0.00123484680552540</td>\n",
       "      <td>-0.00002431123934031</td>\n",
       "      <td>0.00006975192742793</td>\n",
       "      <td>0.00018192536544853</td>\n",
       "      <td>-0.00007172626324029</td>\n",
       "      <td>-0.00008937579014912</td>\n",
       "      <td>-0.00029517541383411</td>\n",
       "      <td>-0.00013094035488017</td>\n",
       "      <td>88.29102242231327580</td>\n",
       "    </tr>\n",
       "    <tr>\n",
       "      <th>1</th>\n",
       "      <td>80746.80691056911018677</td>\n",
       "      <td>-4.77194844147908181</td>\n",
       "      <td>3.62377810198228056</td>\n",
       "      <td>-7.03328104859655845</td>\n",
       "      <td>4.54202910442309271</td>\n",
       "      <td>-3.15122488593600458</td>\n",
       "      <td>-1.39773671059235149</td>\n",
       "      <td>-5.56873108374273951</td>\n",
       "      <td>0.57063589529623782</td>\n",
       "      <td>-2.58112292170299540</td>\n",
       "      <td>...</td>\n",
       "      <td>0.37231939577147166</td>\n",
       "      <td>0.71358835266870058</td>\n",
       "      <td>0.01404888214012134</td>\n",
       "      <td>-0.04030796594836945</td>\n",
       "      <td>-0.10513030543948290</td>\n",
       "      <td>0.04144888726282707</td>\n",
       "      <td>0.05164812556245366</td>\n",
       "      <td>0.17057479224418595</td>\n",
       "      <td>0.07566729064577460</td>\n",
       "      <td>122.21132113821138887</td>\n",
       "    </tr>\n",
       "  </tbody>\n",
       "</table>\n",
       "<p>2 rows × 30 columns</p>\n",
       "</div>"
      ],
      "text/plain": [
       "                         Time                   V1                   V2  \\\n",
       "Class                                                                     \n",
       "0     94838.20225805883819703  0.00825773748556370 -0.00627085741580706   \n",
       "1     80746.80691056911018677 -4.77194844147908181  3.62377810198228056   \n",
       "\n",
       "                        V3                   V4                   V5  \\\n",
       "Class                                                                  \n",
       "0      0.01217091703184534 -0.00785986782046521  0.00545311588864745   \n",
       "1     -7.03328104859655845  4.54202910442309271 -3.15122488593600458   \n",
       "\n",
       "                        V6                   V7                   V8  \\\n",
       "Class                                                                  \n",
       "0      0.00241874843610736  0.00963654992948408 -0.00098747115166529   \n",
       "1     -1.39773671059235149 -5.56873108374273951  0.57063589529623782   \n",
       "\n",
       "                        V9  ...                  V20                  V21  \\\n",
       "Class                       ...                                             \n",
       "0      0.00446656869133597  ... -0.00064428940688807 -0.00123484680552540   \n",
       "1     -2.58112292170299540  ...  0.37231939577147166  0.71358835266870058   \n",
       "\n",
       "                       V22                  V23                  V24  \\\n",
       "Class                                                                  \n",
       "0     -0.00002431123934031  0.00006975192742793  0.00018192536544853   \n",
       "1      0.01404888214012134 -0.04030796594836945 -0.10513030543948290   \n",
       "\n",
       "                       V25                  V26                  V27  \\\n",
       "Class                                                                  \n",
       "0     -0.00007172626324029 -0.00008937579014912 -0.00029517541383411   \n",
       "1      0.04144888726282707  0.05164812556245366  0.17057479224418595   \n",
       "\n",
       "                       V28                Amount  \n",
       "Class                                             \n",
       "0     -0.00013094035488017  88.29102242231327580  \n",
       "1      0.07566729064577460 122.21132113821138887  \n",
       "\n",
       "[2 rows x 30 columns]"
      ]
     },
     "execution_count": 64,
     "metadata": {},
     "output_type": "execute_result"
    }
   ],
   "source": [
    "# Get the mean for each group to try and see if the resampling has changed the mean\n",
    "df.groupby('Class').mean()"
   ]
  },
  {
   "cell_type": "code",
   "execution_count": 65,
   "id": "deeb1da0",
   "metadata": {
    "execution": {
     "iopub.execute_input": "2024-11-25T16:00:02.972016Z",
     "iopub.status.busy": "2024-11-25T16:00:02.971625Z",
     "iopub.status.idle": "2024-11-25T16:00:02.980212Z",
     "shell.execute_reply": "2024-11-25T16:00:02.978404Z"
    },
    "papermill": {
     "duration": 0.036691,
     "end_time": "2024-11-25T16:00:02.982774",
     "exception": false,
     "start_time": "2024-11-25T16:00:02.946083",
     "status": "completed"
    },
    "tags": []
   },
   "outputs": [
    {
     "name": "stdout",
     "output_type": "stream",
     "text": [
      "(398038, 30)\n",
      "(398038,)\n"
     ]
    }
   ],
   "source": [
    "#Total number of transactions after resampling\n",
    "print(X_resampled.shape)\n",
    "print(y_resampled.shape)"
   ]
  },
  {
   "cell_type": "code",
   "execution_count": 66,
   "id": "ad5b95d9",
   "metadata": {
    "execution": {
     "iopub.execute_input": "2024-11-25T16:00:03.036198Z",
     "iopub.status.busy": "2024-11-25T16:00:03.035489Z",
     "iopub.status.idle": "2024-11-25T16:00:03.092789Z",
     "shell.execute_reply": "2024-11-25T16:00:03.091281Z"
    },
    "papermill": {
     "duration": 0.088693,
     "end_time": "2024-11-25T16:00:03.095230",
     "exception": false,
     "start_time": "2024-11-25T16:00:03.006537",
     "status": "completed"
    },
    "tags": []
   },
   "outputs": [
    {
     "name": "stdout",
     "output_type": "stream",
     "text": [
      " Class distribution in Testing: Counter({0: 284315, 1: 492})\n"
     ]
    }
   ],
   "source": [
    "#Class distribution for testing\n",
    "class_distribution = Counter(y_test)\n",
    "print(f\" Class distribution in Testing: {class_distribution}\")"
   ]
  },
  {
   "cell_type": "code",
   "execution_count": 67,
   "id": "5ae2a1c5",
   "metadata": {
    "execution": {
     "iopub.execute_input": "2024-11-25T16:00:03.140890Z",
     "iopub.status.busy": "2024-11-25T16:00:03.140526Z",
     "iopub.status.idle": "2024-11-25T16:00:03.216621Z",
     "shell.execute_reply": "2024-11-25T16:00:03.214989Z"
    },
    "papermill": {
     "duration": 0.102259,
     "end_time": "2024-11-25T16:00:03.219874",
     "exception": false,
     "start_time": "2024-11-25T16:00:03.117615",
     "status": "completed"
    },
    "tags": []
   },
   "outputs": [
    {
     "name": "stdout",
     "output_type": "stream",
     "text": [
      " Class distribution in Training: Counter({0: 199019, 1: 199019})\n"
     ]
    }
   ],
   "source": [
    "#Class distribution for training\n",
    "class_distribution = Counter(y_resampled)\n",
    "print(f\" Class distribution in Training: {class_distribution}\")"
   ]
  },
  {
   "cell_type": "code",
   "execution_count": 68,
   "id": "e3e7069b",
   "metadata": {
    "execution": {
     "iopub.execute_input": "2024-11-25T16:00:03.269093Z",
     "iopub.status.busy": "2024-11-25T16:00:03.267890Z",
     "iopub.status.idle": "2024-11-25T16:00:03.273657Z",
     "shell.execute_reply": "2024-11-25T16:00:03.272444Z"
    },
    "papermill": {
     "duration": 0.032721,
     "end_time": "2024-11-25T16:00:03.276509",
     "exception": false,
     "start_time": "2024-11-25T16:00:03.243788",
     "status": "completed"
    },
    "tags": []
   },
   "outputs": [],
   "source": [
    "y_train = y_resampled\n",
    "X_train = X_resampled"
   ]
  },
  {
   "cell_type": "code",
   "execution_count": 69,
   "id": "b12d44b7",
   "metadata": {
    "execution": {
     "iopub.execute_input": "2024-11-25T16:00:03.326703Z",
     "iopub.status.busy": "2024-11-25T16:00:03.326317Z",
     "iopub.status.idle": "2024-11-25T16:00:03.399358Z",
     "shell.execute_reply": "2024-11-25T16:00:03.397862Z"
    },
    "papermill": {
     "duration": 0.099345,
     "end_time": "2024-11-25T16:00:03.401659",
     "exception": false,
     "start_time": "2024-11-25T16:00:03.302314",
     "status": "completed"
    },
    "tags": []
   },
   "outputs": [
    {
     "name": "stdout",
     "output_type": "stream",
     "text": [
      " Class distribution in Training: Counter({0: 199019, 1: 199019})\n"
     ]
    }
   ],
   "source": [
    "#Class distribution for training\n",
    "class_distribution = Counter(y_train)\n",
    "print(f\" Class distribution in Training: {class_distribution}\")"
   ]
  },
  {
   "cell_type": "markdown",
   "id": "9e6c3938",
   "metadata": {
    "papermill": {
     "duration": 0.023672,
     "end_time": "2024-11-25T16:00:03.449951",
     "exception": false,
     "start_time": "2024-11-25T16:00:03.426279",
     "status": "completed"
    },
    "tags": []
   },
   "source": [
    "### Model Training and Predicition\n",
    "\n",
    "In this phase, the selected models—Decision Tree (DT), Logistic Regression (LR), and Random Forest\n",
    "(RF)—are trained using the balanced training dataset prepared with SMOTE. Each model is fitted to\n",
    "the training data to learn the underlying patterns associated with the target variable. Once trained, thes\n",
    "models are evaluated on the imbalanced test dataset to assess their predictive performance. The aim s\n",
    "to determine how effectively each model can identify fraudulent versus legitimate instances, therby\n",
    "providing insights into their accuracy and robustness in practical applications.\n"
   ]
  },
  {
   "cell_type": "markdown",
   "id": "da2f2904",
   "metadata": {
    "papermill": {
     "duration": 0.023738,
     "end_time": "2024-11-25T16:00:03.496897",
     "exception": false,
     "start_time": "2024-11-25T16:00:03.473159",
     "status": "completed"
    },
    "tags": []
   },
   "source": [
    "#### Logistic Regression\n",
    "\n",
    "Logistic regression is a supervised machine learning algorithm that accomplishes binary classification tasks by predicting the probability of an outcome, event, or observation. The model delivers a binary or dichotomous outcome limited to two possible outcomes: yes/no, 0/1, or true/false.\n",
    "\n",
    "#### Logistic Regression Equation\n",
    "\n",
    "Logistic regression uses a logistic function called a sigmoid function to map predictions and their\n",
    "probabilities. The sigmoid function refers to an S-shaped curve that converts any real value to a range between 0 and 1.\n",
    "\n",
    "Moreover, the output of the sigmoid function (estimated probability) is compared to the threshold.\n",
    "Threshold defines the probability of either 0 or 1. Such as values above the threshold value tends to 1, and a value below the threshold values tends to 0. The threshold is by default 0.5. However, since this is not a strict case, the threshold can be adjusted based on specific requirements.\n",
    "\n",
    "For example, if the output of the sigmoid function is above 0.5, the output is considered as 1. On the other hand, if the output is less than 0.5, the output is classified as 0. Also, if the graph goes further to the negative end, the predicted value of y will be 0 and vice versa. In other words, if the output of the sigmoid function is 0.85, it implies that there are 85% chances of the event occurring: a coin toss, for example. However, if the output is too close to the threshold (say 0.55), the evaluation can be done manually to verify whether the fraudulent detection has been correct or not.\n",
    "\n",
    "The sigmoid function is referred to as activation function for logistic regression and is defined as: S(x) = 1/(1+e^(-x))\n"
   ]
  },
  {
   "cell_type": "markdown",
   "id": "ed645513",
   "metadata": {
    "papermill": {
     "duration": 0.022237,
     "end_time": "2024-11-25T16:00:03.542074",
     "exception": false,
     "start_time": "2024-11-25T16:00:03.519837",
     "status": "completed"
    },
    "tags": []
   },
   "source": [
    "![](https://www.rinf.tech/wp-content/uploads/2022/11/MicrosoftTeams-image-183-1024x597.png)\n",
    "\n",
    "**Figure 4:** Sigmoid Function\n",
    "\n",
    "The above formula and figure represent sigmoid function, which transforms any input x into a value\n",
    "between 0 and 1, making it useful for binary classification tasks. It calculates the probability of a given\n",
    "input belonging to the positive class by mapping the linear combination of features to a rang\n",
    "interpretable as probabilities.\n"
   ]
  },
  {
   "cell_type": "code",
   "execution_count": 70,
   "id": "96c5c9ee",
   "metadata": {
    "execution": {
     "iopub.execute_input": "2024-11-25T16:00:03.586697Z",
     "iopub.status.busy": "2024-11-25T16:00:03.586315Z",
     "iopub.status.idle": "2024-11-25T16:00:08.054675Z",
     "shell.execute_reply": "2024-11-25T16:00:08.052505Z"
    },
    "papermill": {
     "duration": 4.49675,
     "end_time": "2024-11-25T16:00:08.060335",
     "exception": false,
     "start_time": "2024-11-25T16:00:03.563585",
     "status": "completed"
    },
    "tags": []
   },
   "outputs": [
    {
     "data": {
      "text/html": [
       "<style>#sk-container-id-1 {\n",
       "  /* Definition of color scheme common for light and dark mode */\n",
       "  --sklearn-color-text: black;\n",
       "  --sklearn-color-line: gray;\n",
       "  /* Definition of color scheme for unfitted estimators */\n",
       "  --sklearn-color-unfitted-level-0: #fff5e6;\n",
       "  --sklearn-color-unfitted-level-1: #f6e4d2;\n",
       "  --sklearn-color-unfitted-level-2: #ffe0b3;\n",
       "  --sklearn-color-unfitted-level-3: chocolate;\n",
       "  /* Definition of color scheme for fitted estimators */\n",
       "  --sklearn-color-fitted-level-0: #f0f8ff;\n",
       "  --sklearn-color-fitted-level-1: #d4ebff;\n",
       "  --sklearn-color-fitted-level-2: #b3dbfd;\n",
       "  --sklearn-color-fitted-level-3: cornflowerblue;\n",
       "\n",
       "  /* Specific color for light theme */\n",
       "  --sklearn-color-text-on-default-background: var(--sg-text-color, var(--theme-code-foreground, var(--jp-content-font-color1, black)));\n",
       "  --sklearn-color-background: var(--sg-background-color, var(--theme-background, var(--jp-layout-color0, white)));\n",
       "  --sklearn-color-border-box: var(--sg-text-color, var(--theme-code-foreground, var(--jp-content-font-color1, black)));\n",
       "  --sklearn-color-icon: #696969;\n",
       "\n",
       "  @media (prefers-color-scheme: dark) {\n",
       "    /* Redefinition of color scheme for dark theme */\n",
       "    --sklearn-color-text-on-default-background: var(--sg-text-color, var(--theme-code-foreground, var(--jp-content-font-color1, white)));\n",
       "    --sklearn-color-background: var(--sg-background-color, var(--theme-background, var(--jp-layout-color0, #111)));\n",
       "    --sklearn-color-border-box: var(--sg-text-color, var(--theme-code-foreground, var(--jp-content-font-color1, white)));\n",
       "    --sklearn-color-icon: #878787;\n",
       "  }\n",
       "}\n",
       "\n",
       "#sk-container-id-1 {\n",
       "  color: var(--sklearn-color-text);\n",
       "}\n",
       "\n",
       "#sk-container-id-1 pre {\n",
       "  padding: 0;\n",
       "}\n",
       "\n",
       "#sk-container-id-1 input.sk-hidden--visually {\n",
       "  border: 0;\n",
       "  clip: rect(1px 1px 1px 1px);\n",
       "  clip: rect(1px, 1px, 1px, 1px);\n",
       "  height: 1px;\n",
       "  margin: -1px;\n",
       "  overflow: hidden;\n",
       "  padding: 0;\n",
       "  position: absolute;\n",
       "  width: 1px;\n",
       "}\n",
       "\n",
       "#sk-container-id-1 div.sk-dashed-wrapped {\n",
       "  border: 1px dashed var(--sklearn-color-line);\n",
       "  margin: 0 0.4em 0.5em 0.4em;\n",
       "  box-sizing: border-box;\n",
       "  padding-bottom: 0.4em;\n",
       "  background-color: var(--sklearn-color-background);\n",
       "}\n",
       "\n",
       "#sk-container-id-1 div.sk-container {\n",
       "  /* jupyter's `normalize.less` sets `[hidden] { display: none; }`\n",
       "     but bootstrap.min.css set `[hidden] { display: none !important; }`\n",
       "     so we also need the `!important` here to be able to override the\n",
       "     default hidden behavior on the sphinx rendered scikit-learn.org.\n",
       "     See: https://github.com/scikit-learn/scikit-learn/issues/21755 */\n",
       "  display: inline-block !important;\n",
       "  position: relative;\n",
       "}\n",
       "\n",
       "#sk-container-id-1 div.sk-text-repr-fallback {\n",
       "  display: none;\n",
       "}\n",
       "\n",
       "div.sk-parallel-item,\n",
       "div.sk-serial,\n",
       "div.sk-item {\n",
       "  /* draw centered vertical line to link estimators */\n",
       "  background-image: linear-gradient(var(--sklearn-color-text-on-default-background), var(--sklearn-color-text-on-default-background));\n",
       "  background-size: 2px 100%;\n",
       "  background-repeat: no-repeat;\n",
       "  background-position: center center;\n",
       "}\n",
       "\n",
       "/* Parallel-specific style estimator block */\n",
       "\n",
       "#sk-container-id-1 div.sk-parallel-item::after {\n",
       "  content: \"\";\n",
       "  width: 100%;\n",
       "  border-bottom: 2px solid var(--sklearn-color-text-on-default-background);\n",
       "  flex-grow: 1;\n",
       "}\n",
       "\n",
       "#sk-container-id-1 div.sk-parallel {\n",
       "  display: flex;\n",
       "  align-items: stretch;\n",
       "  justify-content: center;\n",
       "  background-color: var(--sklearn-color-background);\n",
       "  position: relative;\n",
       "}\n",
       "\n",
       "#sk-container-id-1 div.sk-parallel-item {\n",
       "  display: flex;\n",
       "  flex-direction: column;\n",
       "}\n",
       "\n",
       "#sk-container-id-1 div.sk-parallel-item:first-child::after {\n",
       "  align-self: flex-end;\n",
       "  width: 50%;\n",
       "}\n",
       "\n",
       "#sk-container-id-1 div.sk-parallel-item:last-child::after {\n",
       "  align-self: flex-start;\n",
       "  width: 50%;\n",
       "}\n",
       "\n",
       "#sk-container-id-1 div.sk-parallel-item:only-child::after {\n",
       "  width: 0;\n",
       "}\n",
       "\n",
       "/* Serial-specific style estimator block */\n",
       "\n",
       "#sk-container-id-1 div.sk-serial {\n",
       "  display: flex;\n",
       "  flex-direction: column;\n",
       "  align-items: center;\n",
       "  background-color: var(--sklearn-color-background);\n",
       "  padding-right: 1em;\n",
       "  padding-left: 1em;\n",
       "}\n",
       "\n",
       "\n",
       "/* Toggleable style: style used for estimator/Pipeline/ColumnTransformer box that is\n",
       "clickable and can be expanded/collapsed.\n",
       "- Pipeline and ColumnTransformer use this feature and define the default style\n",
       "- Estimators will overwrite some part of the style using the `sk-estimator` class\n",
       "*/\n",
       "\n",
       "/* Pipeline and ColumnTransformer style (default) */\n",
       "\n",
       "#sk-container-id-1 div.sk-toggleable {\n",
       "  /* Default theme specific background. It is overwritten whether we have a\n",
       "  specific estimator or a Pipeline/ColumnTransformer */\n",
       "  background-color: var(--sklearn-color-background);\n",
       "}\n",
       "\n",
       "/* Toggleable label */\n",
       "#sk-container-id-1 label.sk-toggleable__label {\n",
       "  cursor: pointer;\n",
       "  display: block;\n",
       "  width: 100%;\n",
       "  margin-bottom: 0;\n",
       "  padding: 0.5em;\n",
       "  box-sizing: border-box;\n",
       "  text-align: center;\n",
       "}\n",
       "\n",
       "#sk-container-id-1 label.sk-toggleable__label-arrow:before {\n",
       "  /* Arrow on the left of the label */\n",
       "  content: \"▸\";\n",
       "  float: left;\n",
       "  margin-right: 0.25em;\n",
       "  color: var(--sklearn-color-icon);\n",
       "}\n",
       "\n",
       "#sk-container-id-1 label.sk-toggleable__label-arrow:hover:before {\n",
       "  color: var(--sklearn-color-text);\n",
       "}\n",
       "\n",
       "/* Toggleable content - dropdown */\n",
       "\n",
       "#sk-container-id-1 div.sk-toggleable__content {\n",
       "  max-height: 0;\n",
       "  max-width: 0;\n",
       "  overflow: hidden;\n",
       "  text-align: left;\n",
       "  /* unfitted */\n",
       "  background-color: var(--sklearn-color-unfitted-level-0);\n",
       "}\n",
       "\n",
       "#sk-container-id-1 div.sk-toggleable__content.fitted {\n",
       "  /* fitted */\n",
       "  background-color: var(--sklearn-color-fitted-level-0);\n",
       "}\n",
       "\n",
       "#sk-container-id-1 div.sk-toggleable__content pre {\n",
       "  margin: 0.2em;\n",
       "  border-radius: 0.25em;\n",
       "  color: var(--sklearn-color-text);\n",
       "  /* unfitted */\n",
       "  background-color: var(--sklearn-color-unfitted-level-0);\n",
       "}\n",
       "\n",
       "#sk-container-id-1 div.sk-toggleable__content.fitted pre {\n",
       "  /* unfitted */\n",
       "  background-color: var(--sklearn-color-fitted-level-0);\n",
       "}\n",
       "\n",
       "#sk-container-id-1 input.sk-toggleable__control:checked~div.sk-toggleable__content {\n",
       "  /* Expand drop-down */\n",
       "  max-height: 200px;\n",
       "  max-width: 100%;\n",
       "  overflow: auto;\n",
       "}\n",
       "\n",
       "#sk-container-id-1 input.sk-toggleable__control:checked~label.sk-toggleable__label-arrow:before {\n",
       "  content: \"▾\";\n",
       "}\n",
       "\n",
       "/* Pipeline/ColumnTransformer-specific style */\n",
       "\n",
       "#sk-container-id-1 div.sk-label input.sk-toggleable__control:checked~label.sk-toggleable__label {\n",
       "  color: var(--sklearn-color-text);\n",
       "  background-color: var(--sklearn-color-unfitted-level-2);\n",
       "}\n",
       "\n",
       "#sk-container-id-1 div.sk-label.fitted input.sk-toggleable__control:checked~label.sk-toggleable__label {\n",
       "  background-color: var(--sklearn-color-fitted-level-2);\n",
       "}\n",
       "\n",
       "/* Estimator-specific style */\n",
       "\n",
       "/* Colorize estimator box */\n",
       "#sk-container-id-1 div.sk-estimator input.sk-toggleable__control:checked~label.sk-toggleable__label {\n",
       "  /* unfitted */\n",
       "  background-color: var(--sklearn-color-unfitted-level-2);\n",
       "}\n",
       "\n",
       "#sk-container-id-1 div.sk-estimator.fitted input.sk-toggleable__control:checked~label.sk-toggleable__label {\n",
       "  /* fitted */\n",
       "  background-color: var(--sklearn-color-fitted-level-2);\n",
       "}\n",
       "\n",
       "#sk-container-id-1 div.sk-label label.sk-toggleable__label,\n",
       "#sk-container-id-1 div.sk-label label {\n",
       "  /* The background is the default theme color */\n",
       "  color: var(--sklearn-color-text-on-default-background);\n",
       "}\n",
       "\n",
       "/* On hover, darken the color of the background */\n",
       "#sk-container-id-1 div.sk-label:hover label.sk-toggleable__label {\n",
       "  color: var(--sklearn-color-text);\n",
       "  background-color: var(--sklearn-color-unfitted-level-2);\n",
       "}\n",
       "\n",
       "/* Label box, darken color on hover, fitted */\n",
       "#sk-container-id-1 div.sk-label.fitted:hover label.sk-toggleable__label.fitted {\n",
       "  color: var(--sklearn-color-text);\n",
       "  background-color: var(--sklearn-color-fitted-level-2);\n",
       "}\n",
       "\n",
       "/* Estimator label */\n",
       "\n",
       "#sk-container-id-1 div.sk-label label {\n",
       "  font-family: monospace;\n",
       "  font-weight: bold;\n",
       "  display: inline-block;\n",
       "  line-height: 1.2em;\n",
       "}\n",
       "\n",
       "#sk-container-id-1 div.sk-label-container {\n",
       "  text-align: center;\n",
       "}\n",
       "\n",
       "/* Estimator-specific */\n",
       "#sk-container-id-1 div.sk-estimator {\n",
       "  font-family: monospace;\n",
       "  border: 1px dotted var(--sklearn-color-border-box);\n",
       "  border-radius: 0.25em;\n",
       "  box-sizing: border-box;\n",
       "  margin-bottom: 0.5em;\n",
       "  /* unfitted */\n",
       "  background-color: var(--sklearn-color-unfitted-level-0);\n",
       "}\n",
       "\n",
       "#sk-container-id-1 div.sk-estimator.fitted {\n",
       "  /* fitted */\n",
       "  background-color: var(--sklearn-color-fitted-level-0);\n",
       "}\n",
       "\n",
       "/* on hover */\n",
       "#sk-container-id-1 div.sk-estimator:hover {\n",
       "  /* unfitted */\n",
       "  background-color: var(--sklearn-color-unfitted-level-2);\n",
       "}\n",
       "\n",
       "#sk-container-id-1 div.sk-estimator.fitted:hover {\n",
       "  /* fitted */\n",
       "  background-color: var(--sklearn-color-fitted-level-2);\n",
       "}\n",
       "\n",
       "/* Specification for estimator info (e.g. \"i\" and \"?\") */\n",
       "\n",
       "/* Common style for \"i\" and \"?\" */\n",
       "\n",
       ".sk-estimator-doc-link,\n",
       "a:link.sk-estimator-doc-link,\n",
       "a:visited.sk-estimator-doc-link {\n",
       "  float: right;\n",
       "  font-size: smaller;\n",
       "  line-height: 1em;\n",
       "  font-family: monospace;\n",
       "  background-color: var(--sklearn-color-background);\n",
       "  border-radius: 1em;\n",
       "  height: 1em;\n",
       "  width: 1em;\n",
       "  text-decoration: none !important;\n",
       "  margin-left: 1ex;\n",
       "  /* unfitted */\n",
       "  border: var(--sklearn-color-unfitted-level-1) 1pt solid;\n",
       "  color: var(--sklearn-color-unfitted-level-1);\n",
       "}\n",
       "\n",
       ".sk-estimator-doc-link.fitted,\n",
       "a:link.sk-estimator-doc-link.fitted,\n",
       "a:visited.sk-estimator-doc-link.fitted {\n",
       "  /* fitted */\n",
       "  border: var(--sklearn-color-fitted-level-1) 1pt solid;\n",
       "  color: var(--sklearn-color-fitted-level-1);\n",
       "}\n",
       "\n",
       "/* On hover */\n",
       "div.sk-estimator:hover .sk-estimator-doc-link:hover,\n",
       ".sk-estimator-doc-link:hover,\n",
       "div.sk-label-container:hover .sk-estimator-doc-link:hover,\n",
       ".sk-estimator-doc-link:hover {\n",
       "  /* unfitted */\n",
       "  background-color: var(--sklearn-color-unfitted-level-3);\n",
       "  color: var(--sklearn-color-background);\n",
       "  text-decoration: none;\n",
       "}\n",
       "\n",
       "div.sk-estimator.fitted:hover .sk-estimator-doc-link.fitted:hover,\n",
       ".sk-estimator-doc-link.fitted:hover,\n",
       "div.sk-label-container:hover .sk-estimator-doc-link.fitted:hover,\n",
       ".sk-estimator-doc-link.fitted:hover {\n",
       "  /* fitted */\n",
       "  background-color: var(--sklearn-color-fitted-level-3);\n",
       "  color: var(--sklearn-color-background);\n",
       "  text-decoration: none;\n",
       "}\n",
       "\n",
       "/* Span, style for the box shown on hovering the info icon */\n",
       ".sk-estimator-doc-link span {\n",
       "  display: none;\n",
       "  z-index: 9999;\n",
       "  position: relative;\n",
       "  font-weight: normal;\n",
       "  right: .2ex;\n",
       "  padding: .5ex;\n",
       "  margin: .5ex;\n",
       "  width: min-content;\n",
       "  min-width: 20ex;\n",
       "  max-width: 50ex;\n",
       "  color: var(--sklearn-color-text);\n",
       "  box-shadow: 2pt 2pt 4pt #999;\n",
       "  /* unfitted */\n",
       "  background: var(--sklearn-color-unfitted-level-0);\n",
       "  border: .5pt solid var(--sklearn-color-unfitted-level-3);\n",
       "}\n",
       "\n",
       ".sk-estimator-doc-link.fitted span {\n",
       "  /* fitted */\n",
       "  background: var(--sklearn-color-fitted-level-0);\n",
       "  border: var(--sklearn-color-fitted-level-3);\n",
       "}\n",
       "\n",
       ".sk-estimator-doc-link:hover span {\n",
       "  display: block;\n",
       "}\n",
       "\n",
       "/* \"?\"-specific style due to the `<a>` HTML tag */\n",
       "\n",
       "#sk-container-id-1 a.estimator_doc_link {\n",
       "  float: right;\n",
       "  font-size: 1rem;\n",
       "  line-height: 1em;\n",
       "  font-family: monospace;\n",
       "  background-color: var(--sklearn-color-background);\n",
       "  border-radius: 1rem;\n",
       "  height: 1rem;\n",
       "  width: 1rem;\n",
       "  text-decoration: none;\n",
       "  /* unfitted */\n",
       "  color: var(--sklearn-color-unfitted-level-1);\n",
       "  border: var(--sklearn-color-unfitted-level-1) 1pt solid;\n",
       "}\n",
       "\n",
       "#sk-container-id-1 a.estimator_doc_link.fitted {\n",
       "  /* fitted */\n",
       "  border: var(--sklearn-color-fitted-level-1) 1pt solid;\n",
       "  color: var(--sklearn-color-fitted-level-1);\n",
       "}\n",
       "\n",
       "/* On hover */\n",
       "#sk-container-id-1 a.estimator_doc_link:hover {\n",
       "  /* unfitted */\n",
       "  background-color: var(--sklearn-color-unfitted-level-3);\n",
       "  color: var(--sklearn-color-background);\n",
       "  text-decoration: none;\n",
       "}\n",
       "\n",
       "#sk-container-id-1 a.estimator_doc_link.fitted:hover {\n",
       "  /* fitted */\n",
       "  background-color: var(--sklearn-color-fitted-level-3);\n",
       "}\n",
       "</style><div id=\"sk-container-id-1\" class=\"sk-top-container\"><div class=\"sk-text-repr-fallback\"><pre>LogisticRegression()</pre><b>In a Jupyter environment, please rerun this cell to show the HTML representation or trust the notebook. <br />On GitHub, the HTML representation is unable to render, please try loading this page with nbviewer.org.</b></div><div class=\"sk-container\" hidden><div class=\"sk-item\"><div class=\"sk-estimator fitted sk-toggleable\"><input class=\"sk-toggleable__control sk-hidden--visually\" id=\"sk-estimator-id-1\" type=\"checkbox\" checked><label for=\"sk-estimator-id-1\" class=\"sk-toggleable__label fitted sk-toggleable__label-arrow fitted\">&nbsp;&nbsp;LogisticRegression<a class=\"sk-estimator-doc-link fitted\" rel=\"noreferrer\" target=\"_blank\" href=\"https://scikit-learn.org/1.5/modules/generated/sklearn.linear_model.LogisticRegression.html\">?<span>Documentation for LogisticRegression</span></a><span class=\"sk-estimator-doc-link fitted\">i<span>Fitted</span></span></label><div class=\"sk-toggleable__content fitted\"><pre>LogisticRegression()</pre></div> </div></div></div></div>"
      ],
      "text/plain": [
       "LogisticRegression()"
      ]
     },
     "execution_count": 70,
     "metadata": {},
     "output_type": "execute_result"
    }
   ],
   "source": [
    "lr = LogisticRegression()\n",
    "lr.fit(X_resampled, y_resampled)"
   ]
  },
  {
   "cell_type": "code",
   "execution_count": 71,
   "id": "4016c955",
   "metadata": {
    "execution": {
     "iopub.execute_input": "2024-11-25T16:00:08.154964Z",
     "iopub.status.busy": "2024-11-25T16:00:08.153918Z",
     "iopub.status.idle": "2024-11-25T16:00:08.175162Z",
     "shell.execute_reply": "2024-11-25T16:00:08.173931Z"
    },
    "papermill": {
     "duration": 0.074398,
     "end_time": "2024-11-25T16:00:08.178445",
     "exception": false,
     "start_time": "2024-11-25T16:00:08.104047",
     "status": "completed"
    },
    "tags": []
   },
   "outputs": [],
   "source": [
    "predicted_lr = lr.predict(X_test)"
   ]
  },
  {
   "cell_type": "code",
   "execution_count": 72,
   "id": "77e90fc8",
   "metadata": {
    "execution": {
     "iopub.execute_input": "2024-11-25T16:00:08.263179Z",
     "iopub.status.busy": "2024-11-25T16:00:08.262140Z",
     "iopub.status.idle": "2024-11-25T16:00:08.751154Z",
     "shell.execute_reply": "2024-11-25T16:00:08.750108Z"
    },
    "papermill": {
     "duration": 0.53529,
     "end_time": "2024-11-25T16:00:08.753589",
     "exception": false,
     "start_time": "2024-11-25T16:00:08.218299",
     "status": "completed"
    },
    "tags": []
   },
   "outputs": [
    {
     "name": "stdout",
     "output_type": "stream",
     "text": [
      "Classification report:\n",
      "               precision    recall  f1-score   support\n",
      "\n",
      "           0       1.00      0.99      0.99    284315\n",
      "           1       0.10      0.89      0.18       492\n",
      "\n",
      "    accuracy                           0.99    284807\n",
      "   macro avg       0.55      0.94      0.59    284807\n",
      "weighted avg       1.00      0.99      0.99    284807\n",
      "\n",
      "The accuracy of the Logistic Regression is: 98.58%\n"
     ]
    }
   ],
   "source": [
    "#To compare with the actual values\n",
    "print('Classification report:\\n', classification_report(y_test, predicted_lr))\n",
    "lr_accuracy = round(accuracy_score(y_test, predicted_lr) *100,2)\n",
    "print('The accuracy of the Logistic Regression is: {}%' .format(lr_accuracy))"
   ]
  },
  {
   "cell_type": "code",
   "execution_count": 73,
   "id": "0c42361b",
   "metadata": {
    "execution": {
     "iopub.execute_input": "2024-11-25T16:00:08.799525Z",
     "iopub.status.busy": "2024-11-25T16:00:08.799172Z",
     "iopub.status.idle": "2024-11-25T16:00:09.141710Z",
     "shell.execute_reply": "2024-11-25T16:00:09.140476Z"
    },
    "papermill": {
     "duration": 0.369073,
     "end_time": "2024-11-25T16:00:09.144370",
     "exception": false,
     "start_time": "2024-11-25T16:00:08.775297",
     "status": "completed"
    },
    "tags": []
   },
   "outputs": [
    {
     "name": "stdout",
     "output_type": "stream",
     "text": [
      "Confusion matrix:\n",
      " [[280336   3979]\n",
      " [    52    440]]\n"
     ]
    },
    {
     "data": {
      "image/png": "[encoded data removed]",
      "text/plain": [
       "<Figure size 800x600 with 2 Axes>"
      ]
     },
     "metadata": {},
     "output_type": "display_data"
    }
   ],
   "source": [
    "#For Comparison\n",
    "\n",
    "fig,ax = plt.subplots(figsize=(8,6), dpi=100)\n",
    "ax.set_title('Logistic Regression')\n",
    "conf_mat = confusion_matrix(y_test, predicted_lr)\n",
    "print('Confusion matrix:\\n', conf_mat)\n",
    "\n",
    "cm_display = ConfusionMatrixDisplay(confusion_matrix=conf_mat, display_labels=lr.classes_).plot(ax=ax, cmap='Blues')"
   ]
  },
  {
   "cell_type": "markdown",
   "id": "845dfb14",
   "metadata": {
    "papermill": {
     "duration": 0.02279,
     "end_time": "2024-11-25T16:00:09.189751",
     "exception": false,
     "start_time": "2024-11-25T16:00:09.166961",
     "status": "completed"
    },
    "tags": []
   },
   "source": [
    "**Figure 5:** Performance Result of Logistic Regression\n"
   ]
  },
  {
   "cell_type": "markdown",
   "id": "c9795dda",
   "metadata": {
    "papermill": {
     "duration": 0.021994,
     "end_time": "2024-11-25T16:00:09.234095",
     "exception": false,
     "start_time": "2024-11-25T16:00:09.212101",
     "status": "completed"
    },
    "tags": []
   },
   "source": [
    "**Random Forest**\n",
    "\n",
    "Random Forest is a popular supervised machine learning algorithm. It can be used both for classification\n",
    "and regression problems. It is based on the concept of ensemble learning. Ensemble learning is a process\n",
    "of combining multiple classifiers to solve a complex problem and to improve the performance of th\n",
    "mode.\n",
    "\n",
    "Random Forest is a classification algorithm that utilizes multiple decision trees, each trained on diffrent\n",
    "subsets of the dataset. The algorithm aggregates the predictions from these individual trees to hance\n",
    "the overall predictive accuracy. Rather than depending on a single decision tree, the rando forest\n",
    "combines the predictions from multiple trees and determines the outcome based on the majorty vote\n",
    "from these prdictions.\n",
    "\n",
    "Increasing the number of trees in the forest generally improves accuracy and reduces the risk of\n",
    "overfitting.\n",
    "\n",
    "The figure below explains the working of Random Forest algorithm: algorithm:\n"
   ]
  },
  {
   "cell_type": "markdown",
   "id": "e7ba96ba",
   "metadata": {
    "papermill": {
     "duration": 0.022518,
     "end_time": "2024-11-25T16:00:09.280753",
     "exception": false,
     "start_time": "2024-11-25T16:00:09.258235",
     "status": "completed"
    },
    "tags": []
   },
   "source": [
    "![Random Forest](https://framerusercontent.com/images/mWCWly6zyIdDKQJu3qL0VBQqKY.jpg)\n",
    "\n",
    "**Figure 6:** Random Forest\n",
    "\n",
    "The random forest, as described in the image above works as a model whole that has multiple decision\n",
    "trees. It has the highest accuracy among the three models.\n"
   ]
  },
  {
   "cell_type": "code",
   "execution_count": null,
   "id": "d123e2f5",
   "metadata": {
    "execution": {
     "iopub.execute_input": "2024-11-25T16:00:09.329564Z",
     "iopub.status.busy": "2024-11-25T16:00:09.329220Z",
     "iopub.status.idle": "2024-11-25T16:07:26.894231Z",
     "shell.execute_reply": "2024-11-25T16:07:26.892873Z"
    },
    "papermill": {
     "duration": 437.621197,
     "end_time": "2024-11-25T16:07:26.926766",
     "exception": false,
     "start_time": "2024-11-25T16:00:09.305569",
     "status": "completed"
    },
    "tags": []
   },
   "outputs": [],
   "source": [
    "Rf = RandomForestClassifier(random_state=0)\n",
    "Rf.fit(X_train, y_train)\n",
    "\n",
    "#If you have cuda install use this instead\n",
    "# import tensorflow as tf\n",
    "\n",
    "# Rf = RandomForestClassifier(random_state=0)\n",
    "# with tf.device('/device:GPU:0'): \n",
    "#     Rf.fit(X_train, y_train)"
   ]
  },
  {
   "cell_type": "code",
   "execution_count": 75,
   "id": "bb8f17ea",
   "metadata": {
    "execution": {
     "iopub.execute_input": "2024-11-25T16:07:26.977113Z",
     "iopub.status.busy": "2024-11-25T16:07:26.976696Z",
     "iopub.status.idle": "2024-11-25T16:07:29.950523Z",
     "shell.execute_reply": "2024-11-25T16:07:29.949454Z"
    },
    "papermill": {
     "duration": 3.001244,
     "end_time": "2024-11-25T16:07:29.953196",
     "exception": false,
     "start_time": "2024-11-25T16:07:26.951952",
     "status": "completed"
    },
    "tags": []
   },
   "outputs": [],
   "source": [
    "predicted_rf = Rf.predict(X_test)"
   ]
  },
  {
   "cell_type": "code",
   "execution_count": 76,
   "id": "d81f7515",
   "metadata": {
    "execution": {
     "iopub.execute_input": "2024-11-25T16:07:29.999876Z",
     "iopub.status.busy": "2024-11-25T16:07:29.998923Z",
     "iopub.status.idle": "2024-11-25T16:07:30.442750Z",
     "shell.execute_reply": "2024-11-25T16:07:30.441534Z"
    },
    "papermill": {
     "duration": 0.469852,
     "end_time": "2024-11-25T16:07:30.445253",
     "exception": false,
     "start_time": "2024-11-25T16:07:29.975401",
     "status": "completed"
    },
    "tags": []
   },
   "outputs": [
    {
     "name": "stdout",
     "output_type": "stream",
     "text": [
      "classification Report:\n",
      "               precision    recall  f1-score   support\n",
      "\n",
      "           0       1.00      1.00      1.00    284315\n",
      "           1       0.97      0.95      0.96       492\n",
      "\n",
      "    accuracy                           1.00    284807\n",
      "   macro avg       0.99      0.97      0.98    284807\n",
      "weighted avg       1.00      1.00      1.00    284807\n",
      "\n",
      "The accuracy of the Random Forest is: 99.99%\n"
     ]
    }
   ],
   "source": [
    "print(\"classification Report:\\n\", classification_report(y_test, predicted_rf))\n",
    "rf_accuracy = round(accuracy_score(y_test, predicted_rf) *100,2)\n",
    "print('The accuracy of the Random Forest is: {}%' .format(rf_accuracy))"
   ]
  },
  {
   "cell_type": "code",
   "execution_count": 77,
   "id": "86655fd0",
   "metadata": {
    "execution": {
     "iopub.execute_input": "2024-11-25T16:07:30.492618Z",
     "iopub.status.busy": "2024-11-25T16:07:30.491860Z",
     "iopub.status.idle": "2024-11-25T16:07:30.820699Z",
     "shell.execute_reply": "2024-11-25T16:07:30.819643Z"
    },
    "papermill": {
     "duration": 0.355402,
     "end_time": "2024-11-25T16:07:30.822955",
     "exception": false,
     "start_time": "2024-11-25T16:07:30.467553",
     "status": "completed"
    },
    "tags": []
   },
   "outputs": [
    {
     "name": "stdout",
     "output_type": "stream",
     "text": [
      "Confusion matrix:\n",
      " [[284301     14]\n",
      " [    26    466]]\n"
     ]
    },
    {
     "data": {
      "image/png": "[encoded data removed]",
      "text/plain": [
       "<Figure size 800x600 with 2 Axes>"
      ]
     },
     "metadata": {},
     "output_type": "display_data"
    }
   ],
   "source": [
    "fig, ax = plt.subplots(figsize=(8, 6), dpi=100)\n",
    "\n",
    "ax.set_title('Random Forest')\n",
    "conf_mat = confusion_matrix(y_true=y_test, y_pred=predicted_rf)\n",
    "print('Confusion matrix:\\n', conf_mat)\n",
    "\n",
    "cm_display = ConfusionMatrixDisplay(confusion_matrix=conf_mat, display_labels=Rf.classes_).plot(ax= ax, cmap='Purples')"
   ]
  },
  {
   "cell_type": "markdown",
   "id": "7bd8a101",
   "metadata": {
    "papermill": {
     "duration": 0.022979,
     "end_time": "2024-11-25T16:07:30.869069",
     "exception": false,
     "start_time": "2024-11-25T16:07:30.846090",
     "status": "completed"
    },
    "tags": []
   },
   "source": [
    "**Figure 7:** Performance Result of Random Forest\n"
   ]
  },
  {
   "cell_type": "code",
   "execution_count": 78,
   "id": "d1d8bae4",
   "metadata": {
    "execution": {
     "iopub.execute_input": "2024-11-25T16:07:30.916535Z",
     "iopub.status.busy": "2024-11-25T16:07:30.916139Z",
     "iopub.status.idle": "2024-11-25T16:07:30.968239Z",
     "shell.execute_reply": "2024-11-25T16:07:30.967061Z"
    },
    "papermill": {
     "duration": 0.078317,
     "end_time": "2024-11-25T16:07:30.970535",
     "exception": false,
     "start_time": "2024-11-25T16:07:30.892218",
     "status": "completed"
    },
    "tags": []
   },
   "outputs": [
    {
     "name": "stdout",
     "output_type": "stream",
     "text": [
      " Class distribution in y_test: Counter({0: 284315, 1: 492})\n"
     ]
    }
   ],
   "source": [
    "class_distribution = Counter(y_test)\n",
    "print(f\" Class distribution in y_test: {class_distribution}\")"
   ]
  },
  {
   "cell_type": "markdown",
   "id": "940bbdcf",
   "metadata": {
    "papermill": {
     "duration": 0.022062,
     "end_time": "2024-11-25T16:07:31.015241",
     "exception": false,
     "start_time": "2024-11-25T16:07:30.993179",
     "status": "completed"
    },
    "tags": []
   },
   "source": [
    "**Decision Tree**\n",
    "\n",
    "Decision Tree is a supervised machine learning algorithm used for both classification and regression\n",
    "tasks. It builds a tree structure by recursively splitting the dataset into subsets based on the most\n",
    "significant features that differentiate the target class.\n",
    "\n",
    "In a Decision tree, there are two nodes, which are Decision node and leaf node. Decision nodes are usd\n",
    "to make any decision and have multiple branches, whereas leaf nodes are the output of those decisins\n",
    "and do not contain any further branches. The decision tree performs based on the features given inthe\n",
    "dataset. In simple words, a decision tree asks a yes/no question, and based on the answer it splits futher\n",
    "into subtrees.\n"
   ]
  },
  {
   "cell_type": "markdown",
   "id": "7dc9ad93",
   "metadata": {
    "papermill": {
     "duration": 0.022072,
     "end_time": "2024-11-25T16:07:31.059827",
     "exception": false,
     "start_time": "2024-11-25T16:07:31.037755",
     "status": "completed"
    },
    "tags": []
   },
   "source": [
    "![Decision Tree](https://framerusercontent.com/images/mWCWly6zyIdDKQJu3qL0VBQqKY.jpg)\n",
    "\n",
    "**Figure 8:** Decision Tree\n",
    "\n",
    "**Example:** Suppose you want to decide if you should bring an umbrella.\n",
    "\n",
    "- **Start at the Top:** Ask, \"Is it raining?\"\n",
    "  - **Yes:** Follow the branch to the next question.\n",
    "  - **No:** Go directly to the decision \"Don’t bring an umbrella.\"\n",
    "- **Next Question:** If it’s raining, ask, \"Is there a chance of rain later?\"\n",
    "  - **Yes:** Follow this branch to the final decision \"Bring an umbrella.\"\n",
    "  - **No:** End at the decision \"Don’t bring an umbrella.\"\n",
    "\n",
    "Each question helps narrow down the options until you reach a clear decision.\n",
    "ision.\n"
   ]
  },
  {
   "cell_type": "code",
   "execution_count": 79,
   "id": "118812ff",
   "metadata": {
    "execution": {
     "iopub.execute_input": "2024-11-25T16:07:31.108147Z",
     "iopub.status.busy": "2024-11-25T16:07:31.107773Z",
     "iopub.status.idle": "2024-11-25T16:08:23.853045Z",
     "shell.execute_reply": "2024-11-25T16:08:23.851885Z"
    },
    "papermill": {
     "duration": 52.794113,
     "end_time": "2024-11-25T16:08:23.878112",
     "exception": false,
     "start_time": "2024-11-25T16:07:31.083999",
     "status": "completed"
    },
    "tags": []
   },
   "outputs": [
    {
     "data": {
      "text/html": [
       "<style>#sk-container-id-2 {\n",
       "  /* Definition of color scheme common for light and dark mode */\n",
       "  --sklearn-color-text: black;\n",
       "  --sklearn-color-line: gray;\n",
       "  /* Definition of color scheme for unfitted estimators */\n",
       "  --sklearn-color-unfitted-level-0: #fff5e6;\n",
       "  --sklearn-color-unfitted-level-1: #f6e4d2;\n",
       "  --sklearn-color-unfitted-level-2: #ffe0b3;\n",
       "  --sklearn-color-unfitted-level-3: chocolate;\n",
       "  /* Definition of color scheme for fitted estimators */\n",
       "  --sklearn-color-fitted-level-0: #f0f8ff;\n",
       "  --sklearn-color-fitted-level-1: #d4ebff;\n",
       "  --sklearn-color-fitted-level-2: #b3dbfd;\n",
       "  --sklearn-color-fitted-level-3: cornflowerblue;\n",
       "\n",
       "  /* Specific color for light theme */\n",
       "  --sklearn-color-text-on-default-background: var(--sg-text-color, var(--theme-code-foreground, var(--jp-content-font-color1, black)));\n",
       "  --sklearn-color-background: var(--sg-background-color, var(--theme-background, var(--jp-layout-color0, white)));\n",
       "  --sklearn-color-border-box: var(--sg-text-color, var(--theme-code-foreground, var(--jp-content-font-color1, black)));\n",
       "  --sklearn-color-icon: #696969;\n",
       "\n",
       "  @media (prefers-color-scheme: dark) {\n",
       "    /* Redefinition of color scheme for dark theme */\n",
       "    --sklearn-color-text-on-default-background: var(--sg-text-color, var(--theme-code-foreground, var(--jp-content-font-color1, white)));\n",
       "    --sklearn-color-background: var(--sg-background-color, var(--theme-background, var(--jp-layout-color0, #111)));\n",
       "    --sklearn-color-border-box: var(--sg-text-color, var(--theme-code-foreground, var(--jp-content-font-color1, white)));\n",
       "    --sklearn-color-icon: #878787;\n",
       "  }\n",
       "}\n",
       "\n",
       "#sk-container-id-2 {\n",
       "  color: var(--sklearn-color-text);\n",
       "}\n",
       "\n",
       "#sk-container-id-2 pre {\n",
       "  padding: 0;\n",
       "}\n",
       "\n",
       "#sk-container-id-2 input.sk-hidden--visually {\n",
       "  border: 0;\n",
       "  clip: rect(1px 1px 1px 1px);\n",
       "  clip: rect(1px, 1px, 1px, 1px);\n",
       "  height: 1px;\n",
       "  margin: -1px;\n",
       "  overflow: hidden;\n",
       "  padding: 0;\n",
       "  position: absolute;\n",
       "  width: 1px;\n",
       "}\n",
       "\n",
       "#sk-container-id-2 div.sk-dashed-wrapped {\n",
       "  border: 1px dashed var(--sklearn-color-line);\n",
       "  margin: 0 0.4em 0.5em 0.4em;\n",
       "  box-sizing: border-box;\n",
       "  padding-bottom: 0.4em;\n",
       "  background-color: var(--sklearn-color-background);\n",
       "}\n",
       "\n",
       "#sk-container-id-2 div.sk-container {\n",
       "  /* jupyter's `normalize.less` sets `[hidden] { display: none; }`\n",
       "     but bootstrap.min.css set `[hidden] { display: none !important; }`\n",
       "     so we also need the `!important` here to be able to override the\n",
       "     default hidden behavior on the sphinx rendered scikit-learn.org.\n",
       "     See: https://github.com/scikit-learn/scikit-learn/issues/21755 */\n",
       "  display: inline-block !important;\n",
       "  position: relative;\n",
       "}\n",
       "\n",
       "#sk-container-id-2 div.sk-text-repr-fallback {\n",
       "  display: none;\n",
       "}\n",
       "\n",
       "div.sk-parallel-item,\n",
       "div.sk-serial,\n",
       "div.sk-item {\n",
       "  /* draw centered vertical line to link estimators */\n",
       "  background-image: linear-gradient(var(--sklearn-color-text-on-default-background), var(--sklearn-color-text-on-default-background));\n",
       "  background-size: 2px 100%;\n",
       "  background-repeat: no-repeat;\n",
       "  background-position: center center;\n",
       "}\n",
       "\n",
       "/* Parallel-specific style estimator block */\n",
       "\n",
       "#sk-container-id-2 div.sk-parallel-item::after {\n",
       "  content: \"\";\n",
       "  width: 100%;\n",
       "  border-bottom: 2px solid var(--sklearn-color-text-on-default-background);\n",
       "  flex-grow: 1;\n",
       "}\n",
       "\n",
       "#sk-container-id-2 div.sk-parallel {\n",
       "  display: flex;\n",
       "  align-items: stretch;\n",
       "  justify-content: center;\n",
       "  background-color: var(--sklearn-color-background);\n",
       "  position: relative;\n",
       "}\n",
       "\n",
       "#sk-container-id-2 div.sk-parallel-item {\n",
       "  display: flex;\n",
       "  flex-direction: column;\n",
       "}\n",
       "\n",
       "#sk-container-id-2 div.sk-parallel-item:first-child::after {\n",
       "  align-self: flex-end;\n",
       "  width: 50%;\n",
       "}\n",
       "\n",
       "#sk-container-id-2 div.sk-parallel-item:last-child::after {\n",
       "  align-self: flex-start;\n",
       "  width: 50%;\n",
       "}\n",
       "\n",
       "#sk-container-id-2 div.sk-parallel-item:only-child::after {\n",
       "  width: 0;\n",
       "}\n",
       "\n",
       "/* Serial-specific style estimator block */\n",
       "\n",
       "#sk-container-id-2 div.sk-serial {\n",
       "  display: flex;\n",
       "  flex-direction: column;\n",
       "  align-items: center;\n",
       "  background-color: var(--sklearn-color-background);\n",
       "  padding-right: 1em;\n",
       "  padding-left: 1em;\n",
       "}\n",
       "\n",
       "\n",
       "/* Toggleable style: style used for estimator/Pipeline/ColumnTransformer box that is\n",
       "clickable and can be expanded/collapsed.\n",
       "- Pipeline and ColumnTransformer use this feature and define the default style\n",
       "- Estimators will overwrite some part of the style using the `sk-estimator` class\n",
       "*/\n",
       "\n",
       "/* Pipeline and ColumnTransformer style (default) */\n",
       "\n",
       "#sk-container-id-2 div.sk-toggleable {\n",
       "  /* Default theme specific background. It is overwritten whether we have a\n",
       "  specific estimator or a Pipeline/ColumnTransformer */\n",
       "  background-color: var(--sklearn-color-background);\n",
       "}\n",
       "\n",
       "/* Toggleable label */\n",
       "#sk-container-id-2 label.sk-toggleable__label {\n",
       "  cursor: pointer;\n",
       "  display: block;\n",
       "  width: 100%;\n",
       "  margin-bottom: 0;\n",
       "  padding: 0.5em;\n",
       "  box-sizing: border-box;\n",
       "  text-align: center;\n",
       "}\n",
       "\n",
       "#sk-container-id-2 label.sk-toggleable__label-arrow:before {\n",
       "  /* Arrow on the left of the label */\n",
       "  content: \"▸\";\n",
       "  float: left;\n",
       "  margin-right: 0.25em;\n",
       "  color: var(--sklearn-color-icon);\n",
       "}\n",
       "\n",
       "#sk-container-id-2 label.sk-toggleable__label-arrow:hover:before {\n",
       "  color: var(--sklearn-color-text);\n",
       "}\n",
       "\n",
       "/* Toggleable content - dropdown */\n",
       "\n",
       "#sk-container-id-2 div.sk-toggleable__content {\n",
       "  max-height: 0;\n",
       "  max-width: 0;\n",
       "  overflow: hidden;\n",
       "  text-align: left;\n",
       "  /* unfitted */\n",
       "  background-color: var(--sklearn-color-unfitted-level-0);\n",
       "}\n",
       "\n",
       "#sk-container-id-2 div.sk-toggleable__content.fitted {\n",
       "  /* fitted */\n",
       "  background-color: var(--sklearn-color-fitted-level-0);\n",
       "}\n",
       "\n",
       "#sk-container-id-2 div.sk-toggleable__content pre {\n",
       "  margin: 0.2em;\n",
       "  border-radius: 0.25em;\n",
       "  color: var(--sklearn-color-text);\n",
       "  /* unfitted */\n",
       "  background-color: var(--sklearn-color-unfitted-level-0);\n",
       "}\n",
       "\n",
       "#sk-container-id-2 div.sk-toggleable__content.fitted pre {\n",
       "  /* unfitted */\n",
       "  background-color: var(--sklearn-color-fitted-level-0);\n",
       "}\n",
       "\n",
       "#sk-container-id-2 input.sk-toggleable__control:checked~div.sk-toggleable__content {\n",
       "  /* Expand drop-down */\n",
       "  max-height: 200px;\n",
       "  max-width: 100%;\n",
       "  overflow: auto;\n",
       "}\n",
       "\n",
       "#sk-container-id-2 input.sk-toggleable__control:checked~label.sk-toggleable__label-arrow:before {\n",
       "  content: \"▾\";\n",
       "}\n",
       "\n",
       "/* Pipeline/ColumnTransformer-specific style */\n",
       "\n",
       "#sk-container-id-2 div.sk-label input.sk-toggleable__control:checked~label.sk-toggleable__label {\n",
       "  color: var(--sklearn-color-text);\n",
       "  background-color: var(--sklearn-color-unfitted-level-2);\n",
       "}\n",
       "\n",
       "#sk-container-id-2 div.sk-label.fitted input.sk-toggleable__control:checked~label.sk-toggleable__label {\n",
       "  background-color: var(--sklearn-color-fitted-level-2);\n",
       "}\n",
       "\n",
       "/* Estimator-specific style */\n",
       "\n",
       "/* Colorize estimator box */\n",
       "#sk-container-id-2 div.sk-estimator input.sk-toggleable__control:checked~label.sk-toggleable__label {\n",
       "  /* unfitted */\n",
       "  background-color: var(--sklearn-color-unfitted-level-2);\n",
       "}\n",
       "\n",
       "#sk-container-id-2 div.sk-estimator.fitted input.sk-toggleable__control:checked~label.sk-toggleable__label {\n",
       "  /* fitted */\n",
       "  background-color: var(--sklearn-color-fitted-level-2);\n",
       "}\n",
       "\n",
       "#sk-container-id-2 div.sk-label label.sk-toggleable__label,\n",
       "#sk-container-id-2 div.sk-label label {\n",
       "  /* The background is the default theme color */\n",
       "  color: var(--sklearn-color-text-on-default-background);\n",
       "}\n",
       "\n",
       "/* On hover, darken the color of the background */\n",
       "#sk-container-id-2 div.sk-label:hover label.sk-toggleable__label {\n",
       "  color: var(--sklearn-color-text);\n",
       "  background-color: var(--sklearn-color-unfitted-level-2);\n",
       "}\n",
       "\n",
       "/* Label box, darken color on hover, fitted */\n",
       "#sk-container-id-2 div.sk-label.fitted:hover label.sk-toggleable__label.fitted {\n",
       "  color: var(--sklearn-color-text);\n",
       "  background-color: var(--sklearn-color-fitted-level-2);\n",
       "}\n",
       "\n",
       "/* Estimator label */\n",
       "\n",
       "#sk-container-id-2 div.sk-label label {\n",
       "  font-family: monospace;\n",
       "  font-weight: bold;\n",
       "  display: inline-block;\n",
       "  line-height: 1.2em;\n",
       "}\n",
       "\n",
       "#sk-container-id-2 div.sk-label-container {\n",
       "  text-align: center;\n",
       "}\n",
       "\n",
       "/* Estimator-specific */\n",
       "#sk-container-id-2 div.sk-estimator {\n",
       "  font-family: monospace;\n",
       "  border: 1px dotted var(--sklearn-color-border-box);\n",
       "  border-radius: 0.25em;\n",
       "  box-sizing: border-box;\n",
       "  margin-bottom: 0.5em;\n",
       "  /* unfitted */\n",
       "  background-color: var(--sklearn-color-unfitted-level-0);\n",
       "}\n",
       "\n",
       "#sk-container-id-2 div.sk-estimator.fitted {\n",
       "  /* fitted */\n",
       "  background-color: var(--sklearn-color-fitted-level-0);\n",
       "}\n",
       "\n",
       "/* on hover */\n",
       "#sk-container-id-2 div.sk-estimator:hover {\n",
       "  /* unfitted */\n",
       "  background-color: var(--sklearn-color-unfitted-level-2);\n",
       "}\n",
       "\n",
       "#sk-container-id-2 div.sk-estimator.fitted:hover {\n",
       "  /* fitted */\n",
       "  background-color: var(--sklearn-color-fitted-level-2);\n",
       "}\n",
       "\n",
       "/* Specification for estimator info (e.g. \"i\" and \"?\") */\n",
       "\n",
       "/* Common style for \"i\" and \"?\" */\n",
       "\n",
       ".sk-estimator-doc-link,\n",
       "a:link.sk-estimator-doc-link,\n",
       "a:visited.sk-estimator-doc-link {\n",
       "  float: right;\n",
       "  font-size: smaller;\n",
       "  line-height: 1em;\n",
       "  font-family: monospace;\n",
       "  background-color: var(--sklearn-color-background);\n",
       "  border-radius: 1em;\n",
       "  height: 1em;\n",
       "  width: 1em;\n",
       "  text-decoration: none !important;\n",
       "  margin-left: 1ex;\n",
       "  /* unfitted */\n",
       "  border: var(--sklearn-color-unfitted-level-1) 1pt solid;\n",
       "  color: var(--sklearn-color-unfitted-level-1);\n",
       "}\n",
       "\n",
       ".sk-estimator-doc-link.fitted,\n",
       "a:link.sk-estimator-doc-link.fitted,\n",
       "a:visited.sk-estimator-doc-link.fitted {\n",
       "  /* fitted */\n",
       "  border: var(--sklearn-color-fitted-level-1) 1pt solid;\n",
       "  color: var(--sklearn-color-fitted-level-1);\n",
       "}\n",
       "\n",
       "/* On hover */\n",
       "div.sk-estimator:hover .sk-estimator-doc-link:hover,\n",
       ".sk-estimator-doc-link:hover,\n",
       "div.sk-label-container:hover .sk-estimator-doc-link:hover,\n",
       ".sk-estimator-doc-link:hover {\n",
       "  /* unfitted */\n",
       "  background-color: var(--sklearn-color-unfitted-level-3);\n",
       "  color: var(--sklearn-color-background);\n",
       "  text-decoration: none;\n",
       "}\n",
       "\n",
       "div.sk-estimator.fitted:hover .sk-estimator-doc-link.fitted:hover,\n",
       ".sk-estimator-doc-link.fitted:hover,\n",
       "div.sk-label-container:hover .sk-estimator-doc-link.fitted:hover,\n",
       ".sk-estimator-doc-link.fitted:hover {\n",
       "  /* fitted */\n",
       "  background-color: var(--sklearn-color-fitted-level-3);\n",
       "  color: var(--sklearn-color-background);\n",
       "  text-decoration: none;\n",
       "}\n",
       "\n",
       "/* Span, style for the box shown on hovering the info icon */\n",
       ".sk-estimator-doc-link span {\n",
       "  display: none;\n",
       "  z-index: 9999;\n",
       "  position: relative;\n",
       "  font-weight: normal;\n",
       "  right: .2ex;\n",
       "  padding: .5ex;\n",
       "  margin: .5ex;\n",
       "  width: min-content;\n",
       "  min-width: 20ex;\n",
       "  max-width: 50ex;\n",
       "  color: var(--sklearn-color-text);\n",
       "  box-shadow: 2pt 2pt 4pt #999;\n",
       "  /* unfitted */\n",
       "  background: var(--sklearn-color-unfitted-level-0);\n",
       "  border: .5pt solid var(--sklearn-color-unfitted-level-3);\n",
       "}\n",
       "\n",
       ".sk-estimator-doc-link.fitted span {\n",
       "  /* fitted */\n",
       "  background: var(--sklearn-color-fitted-level-0);\n",
       "  border: var(--sklearn-color-fitted-level-3);\n",
       "}\n",
       "\n",
       ".sk-estimator-doc-link:hover span {\n",
       "  display: block;\n",
       "}\n",
       "\n",
       "/* \"?\"-specific style due to the `<a>` HTML tag */\n",
       "\n",
       "#sk-container-id-2 a.estimator_doc_link {\n",
       "  float: right;\n",
       "  font-size: 1rem;\n",
       "  line-height: 1em;\n",
       "  font-family: monospace;\n",
       "  background-color: var(--sklearn-color-background);\n",
       "  border-radius: 1rem;\n",
       "  height: 1rem;\n",
       "  width: 1rem;\n",
       "  text-decoration: none;\n",
       "  /* unfitted */\n",
       "  color: var(--sklearn-color-unfitted-level-1);\n",
       "  border: var(--sklearn-color-unfitted-level-1) 1pt solid;\n",
       "}\n",
       "\n",
       "#sk-container-id-2 a.estimator_doc_link.fitted {\n",
       "  /* fitted */\n",
       "  border: var(--sklearn-color-fitted-level-1) 1pt solid;\n",
       "  color: var(--sklearn-color-fitted-level-1);\n",
       "}\n",
       "\n",
       "/* On hover */\n",
       "#sk-container-id-2 a.estimator_doc_link:hover {\n",
       "  /* unfitted */\n",
       "  background-color: var(--sklearn-color-unfitted-level-3);\n",
       "  color: var(--sklearn-color-background);\n",
       "  text-decoration: none;\n",
       "}\n",
       "\n",
       "#sk-container-id-2 a.estimator_doc_link.fitted:hover {\n",
       "  /* fitted */\n",
       "  background-color: var(--sklearn-color-fitted-level-3);\n",
       "}\n",
       "</style><div id=\"sk-container-id-2\" class=\"sk-top-container\"><div class=\"sk-text-repr-fallback\"><pre>DecisionTreeClassifier(random_state=42)</pre><b>In a Jupyter environment, please rerun this cell to show the HTML representation or trust the notebook. <br />On GitHub, the HTML representation is unable to render, please try loading this page with nbviewer.org.</b></div><div class=\"sk-container\" hidden><div class=\"sk-item\"><div class=\"sk-estimator fitted sk-toggleable\"><input class=\"sk-toggleable__control sk-hidden--visually\" id=\"sk-estimator-id-2\" type=\"checkbox\" checked><label for=\"sk-estimator-id-2\" class=\"sk-toggleable__label fitted sk-toggleable__label-arrow fitted\">&nbsp;&nbsp;DecisionTreeClassifier<a class=\"sk-estimator-doc-link fitted\" rel=\"noreferrer\" target=\"_blank\" href=\"https://scikit-learn.org/1.5/modules/generated/sklearn.tree.DecisionTreeClassifier.html\">?<span>Documentation for DecisionTreeClassifier</span></a><span class=\"sk-estimator-doc-link fitted\">i<span>Fitted</span></span></label><div class=\"sk-toggleable__content fitted\"><pre>DecisionTreeClassifier(random_state=42)</pre></div> </div></div></div></div>"
      ],
      "text/plain": [
       "DecisionTreeClassifier(random_state=42)"
      ]
     },
     "execution_count": 79,
     "metadata": {},
     "output_type": "execute_result"
    }
   ],
   "source": [
    "dt = DecisionTreeClassifier(random_state=42)\n",
    "dt.fit(X_train, y_train)"
   ]
  },
  {
   "cell_type": "code",
   "execution_count": 80,
   "id": "2a1514f8",
   "metadata": {
    "execution": {
     "iopub.execute_input": "2024-11-25T16:08:23.925198Z",
     "iopub.status.busy": "2024-11-25T16:08:23.924793Z",
     "iopub.status.idle": "2024-11-25T16:08:23.994236Z",
     "shell.execute_reply": "2024-11-25T16:08:23.993219Z"
    },
    "papermill": {
     "duration": 0.095759,
     "end_time": "2024-11-25T16:08:23.996445",
     "exception": false,
     "start_time": "2024-11-25T16:08:23.900686",
     "status": "completed"
    },
    "tags": []
   },
   "outputs": [
    {
     "name": "stdout",
     "output_type": "stream",
     "text": [
      " Class distribution in y_test: Counter({0: 199019, 1: 199019})\n"
     ]
    }
   ],
   "source": [
    "class_distribution = Counter(y_train)\n",
    "print(f\" Class distribution in y_test: {class_distribution}\")"
   ]
  },
  {
   "cell_type": "code",
   "execution_count": 81,
   "id": "fed54242",
   "metadata": {
    "execution": {
     "iopub.execute_input": "2024-11-25T16:08:24.043959Z",
     "iopub.status.busy": "2024-11-25T16:08:24.043611Z",
     "iopub.status.idle": "2024-11-25T16:08:24.087181Z",
     "shell.execute_reply": "2024-11-25T16:08:24.086041Z"
    },
    "papermill": {
     "duration": 0.070457,
     "end_time": "2024-11-25T16:08:24.089671",
     "exception": false,
     "start_time": "2024-11-25T16:08:24.019214",
     "status": "completed"
    },
    "tags": []
   },
   "outputs": [],
   "source": [
    "predicted_dt = dt.predict(X_test)"
   ]
  },
  {
   "cell_type": "code",
   "execution_count": 82,
   "id": "ba34f86f",
   "metadata": {
    "execution": {
     "iopub.execute_input": "2024-11-25T16:08:24.137766Z",
     "iopub.status.busy": "2024-11-25T16:08:24.137422Z",
     "iopub.status.idle": "2024-11-25T16:08:24.583384Z",
     "shell.execute_reply": "2024-11-25T16:08:24.582102Z"
    },
    "papermill": {
     "duration": 0.472815,
     "end_time": "2024-11-25T16:08:24.585812",
     "exception": false,
     "start_time": "2024-11-25T16:08:24.112997",
     "status": "completed"
    },
    "tags": []
   },
   "outputs": [
    {
     "name": "stdout",
     "output_type": "stream",
     "text": [
      "classification Report:\n",
      "               precision    recall  f1-score   support\n",
      "\n",
      "           0       1.00      1.00      1.00    284315\n",
      "           1       0.75      0.93      0.83       492\n",
      "\n",
      "    accuracy                           1.00    284807\n",
      "   macro avg       0.88      0.96      0.92    284807\n",
      "weighted avg       1.00      1.00      1.00    284807\n",
      "\n",
      "The accuracy of the Decision Tree is: 99.93%\n"
     ]
    }
   ],
   "source": [
    "print(\"classification Report:\\n\", classification_report(y_test, predicted_dt))\n",
    "dt_accuracy = round(accuracy_score(y_test, predicted_dt) *100,2)\n",
    "print('The accuracy of the Decision Tree is: {}%' .format(dt_accuracy))"
   ]
  },
  {
   "cell_type": "code",
   "execution_count": 83,
   "id": "e9d350db",
   "metadata": {
    "execution": {
     "iopub.execute_input": "2024-11-25T16:08:24.633256Z",
     "iopub.status.busy": "2024-11-25T16:08:24.632865Z",
     "iopub.status.idle": "2024-11-25T16:08:24.682274Z",
     "shell.execute_reply": "2024-11-25T16:08:24.681118Z"
    },
    "papermill": {
     "duration": 0.075881,
     "end_time": "2024-11-25T16:08:24.684583",
     "exception": false,
     "start_time": "2024-11-25T16:08:24.608702",
     "status": "completed"
    },
    "tags": []
   },
   "outputs": [
    {
     "name": "stdout",
     "output_type": "stream",
     "text": [
      "Confusion matrix:\n",
      " [[284164    151]\n",
      " [    35    457]]\n"
     ]
    }
   ],
   "source": [
    "print('Confusion matrix:\\n', confusion_matrix(y_true=y_test, y_pred=predicted_dt))"
   ]
  },
  {
   "cell_type": "code",
   "execution_count": 84,
   "id": "5242c015",
   "metadata": {
    "execution": {
     "iopub.execute_input": "2024-11-25T16:08:24.734199Z",
     "iopub.status.busy": "2024-11-25T16:08:24.733815Z",
     "iopub.status.idle": "2024-11-25T16:08:25.067103Z",
     "shell.execute_reply": "2024-11-25T16:08:25.065551Z"
    },
    "papermill": {
     "duration": 0.360011,
     "end_time": "2024-11-25T16:08:25.069515",
     "exception": false,
     "start_time": "2024-11-25T16:08:24.709504",
     "status": "completed"
    },
    "tags": []
   },
   "outputs": [
    {
     "data": {
      "image/png": "[encoded data removed]",
      "text/plain": [
       "<Figure size 800x600 with 2 Axes>"
      ]
     },
     "metadata": {},
     "output_type": "display_data"
    }
   ],
   "source": [
    "fig,ax = plt.subplots(figsize=(8,6), dpi=100)\n",
    "\n",
    "ax.set(title=\"Decision Tree\")\n",
    "conf_mat = confusion_matrix(y_test, predicted_dt)\n",
    "\n",
    "cm_display = ConfusionMatrixDisplay(confusion_matrix=conf_mat, display_labels=dt.classes_).plot(ax=ax, cmap='Greens')"
   ]
  },
  {
   "cell_type": "markdown",
   "id": "154d53c2",
   "metadata": {
    "papermill": {
     "duration": 0.024315,
     "end_time": "2024-11-25T16:08:25.117963",
     "exception": false,
     "start_time": "2024-11-25T16:08:25.093648",
     "status": "completed"
    },
    "tags": []
   },
   "source": [
    "**Figure 9:** Performance Result of Decision Tree\n"
   ]
  },
  {
   "cell_type": "markdown",
   "id": "58014a32",
   "metadata": {
    "papermill": {
     "duration": 0.025003,
     "end_time": "2024-11-25T16:08:25.166831",
     "exception": false,
     "start_time": "2024-11-25T16:08:25.141828",
     "status": "completed"
    },
    "tags": []
   },
   "source": [
    "### Evaluation Metrics\n",
    "\n",
    "- **Performance Evaluation:** Assess the model's performance using metrics like precision, recall,\n",
    "  F1 score and accuracy. Specifically, assess how accurately the model detects each type of fraud\n",
    "  and its overall reliabilit\n",
    "\n",
    "![Evaluation Metrics](https://www.researchgate.net/profile/Sunanda-Biswas-3/publication/371828574/figure/tbl3/AS:11431281170407510@1687756638695/Most-Common-Machine-Learning-Evaluation-Metrics.png)\n",
    "\n",
    "**Table 1:** Evaluation Metrics.\n"
   ]
  },
  {
   "cell_type": "code",
   "execution_count": 85,
   "id": "abce1816",
   "metadata": {
    "execution": {
     "iopub.execute_input": "2024-11-25T16:08:25.219147Z",
     "iopub.status.busy": "2024-11-25T16:08:25.218719Z",
     "iopub.status.idle": "2024-11-25T16:08:25.890330Z",
     "shell.execute_reply": "2024-11-25T16:08:25.889293Z"
    },
    "papermill": {
     "duration": 0.699408,
     "end_time": "2024-11-25T16:08:25.892862",
     "exception": false,
     "start_time": "2024-11-25T16:08:25.193454",
     "status": "completed"
    },
    "tags": []
   },
   "outputs": [],
   "source": [
    "accuracy_lr = accuracy_score(y_test, predicted_lr)*100\n",
    "accuracy_dt = accuracy_score(y_test, predicted_dt)*100\n",
    "accuracy_rf = accuracy_score(y_test, predicted_rf)*100\n",
    "\n",
    "precision_score_lr = precision_score(y_test, predicted_lr)*100\n",
    "precision_score_dt = precision_score(y_test, predicted_dt)*100\n",
    "precision_score_rf = precision_score(y_test, predicted_rf) *100\n",
    "\n",
    "recall_dt = recall_score(y_test, predicted_dt)*100\n",
    "recall_lr = recall_score(y_test, predicted_lr)*100\n",
    "recall_rf = recall_score(y_test, predicted_rf)*100\n"
   ]
  },
  {
   "cell_type": "markdown",
   "id": "f038f6dd",
   "metadata": {
    "papermill": {
     "duration": 0.023253,
     "end_time": "2024-11-25T16:08:25.941176",
     "exception": false,
     "start_time": "2024-11-25T16:08:25.917923",
     "status": "completed"
    },
    "tags": []
   },
   "source": [
    "**Visualization:** The accuracies of the selected models is shown below.\n"
   ]
  },
  {
   "cell_type": "code",
   "execution_count": 86,
   "id": "43966f18",
   "metadata": {
    "execution": {
     "iopub.execute_input": "2024-11-25T16:08:25.989760Z",
     "iopub.status.busy": "2024-11-25T16:08:25.989382Z",
     "iopub.status.idle": "2024-11-25T16:08:26.001170Z",
     "shell.execute_reply": "2024-11-25T16:08:26.000094Z"
    },
    "papermill": {
     "duration": 0.038603,
     "end_time": "2024-11-25T16:08:26.003225",
     "exception": false,
     "start_time": "2024-11-25T16:08:25.964622",
     "status": "completed"
    },
    "tags": []
   },
   "outputs": [
    {
     "data": {
      "text/html": [
       "<div>\n",
       "<style scoped>\n",
       "    .dataframe tbody tr th:only-of-type {\n",
       "        vertical-align: middle;\n",
       "    }\n",
       "\n",
       "    .dataframe tbody tr th {\n",
       "        vertical-align: top;\n",
       "    }\n",
       "\n",
       "    .dataframe thead th {\n",
       "        text-align: right;\n",
       "    }\n",
       "</style>\n",
       "<table border=\"1\" class=\"dataframe\">\n",
       "  <thead>\n",
       "    <tr style=\"text-align: right;\">\n",
       "      <th></th>\n",
       "      <th>models</th>\n",
       "      <th>accuracy</th>\n",
       "      <th>precision</th>\n",
       "      <th>recall</th>\n",
       "    </tr>\n",
       "  </thead>\n",
       "  <tbody>\n",
       "    <tr>\n",
       "      <th>0</th>\n",
       "      <td>Logistic Regression</td>\n",
       "      <td>98.58465557377451205</td>\n",
       "      <td>9.95700384702421282</td>\n",
       "      <td>89.43089430894308123</td>\n",
       "    </tr>\n",
       "    <tr>\n",
       "      <th>1</th>\n",
       "      <td>Decision Tree</td>\n",
       "      <td>99.93469261640338175</td>\n",
       "      <td>75.16447368421053454</td>\n",
       "      <td>92.88617886178862193</td>\n",
       "    </tr>\n",
       "    <tr>\n",
       "      <th>2</th>\n",
       "      <td>Random Forest</td>\n",
       "      <td>99.98595540137706905</td>\n",
       "      <td>97.08333333333332860</td>\n",
       "      <td>94.71544715447154772</td>\n",
       "    </tr>\n",
       "  </tbody>\n",
       "</table>\n",
       "</div>"
      ],
      "text/plain": [
       "                models             accuracy            precision  \\\n",
       "0  Logistic Regression 98.58465557377451205  9.95700384702421282   \n",
       "1        Decision Tree 99.93469261640338175 75.16447368421053454   \n",
       "2        Random Forest 99.98595540137706905 97.08333333333332860   \n",
       "\n",
       "                recall  \n",
       "0 89.43089430894308123  \n",
       "1 92.88617886178862193  \n",
       "2 94.71544715447154772  "
      ]
     },
     "execution_count": 86,
     "metadata": {},
     "output_type": "execute_result"
    }
   ],
   "source": [
    "\n",
    "performance_df = pd.DataFrame({\n",
    "    'models' : ['Logistic Regression', 'Decision Tree', 'Random Forest'],\n",
    "    'accuracy' : [accuracy_lr, accuracy_dt, accuracy_rf],\n",
    "    'precision' : [precision_score_lr, precision_score_dt, precision_score_rf],\n",
    "    'recall' : [ recall_lr, recall_dt, recall_rf]\n",
    "})\n",
    "\n",
    "performance_df"
   ]
  },
  {
   "cell_type": "markdown",
   "id": "233dff90",
   "metadata": {
    "papermill": {
     "duration": 0.023299,
     "end_time": "2024-11-25T16:08:26.050056",
     "exception": false,
     "start_time": "2024-11-25T16:08:26.026757",
     "status": "completed"
    },
    "tags": []
   },
   "source": [
    "### Conclusion\n",
    "\n",
    "Using Random Forest for fraud detection demonstrates its ability to accurately identify and localize\n",
    "fraudulent activities, which is crucial for maintaining the integrity of financial systems. Integrating this\n",
    "model can streamline fraud detection processay, enhance the security of online transactions\n",
    "and improve the efficiency of fraud management. While initial results are promising, ongo g\n",
    "improvements through model refinement, incorporating additional data, and integration with bac nd\n",
    "systems will further enhance the effectiveness of fraud detection.\n"
   ]
  }
 ],
 "metadata": {
  "kaggle": {
   "accelerator": "none",
   "dataSources": [
    {
     "datasetId": 310,
     "sourceId": 23498,
     "sourceType": "datasetVersion"
    }
   ],
   "dockerImageVersionId": 30746,
   "isGpuEnabled": false,
   "isInternetEnabled": true,
   "language": "python",
   "sourceType": "notebook"
  },
  "kernelspec": {
   "display_name": "Python 3",
   "language": "python",
   "name": "python3"
  },
  "language_info": {
   "codemirror_mode": {
    "name": "ipython",
    "version": 3
   },
   "file_extension": ".py",
   "mimetype": "text/x-python",
   "name": "python",
   "nbconvert_exporter": "python",
   "pygments_lexer": "ipython3",
   "version": "3.12.4"
  },
  "papermill": {
   "default_parameters": {},
   "duration": 538.0443,
   "end_time": "2024-11-25T16:08:26.797365",
   "environment_variables": {},
   "exception": null,
   "input_path": "__notebook__.ipynb",
   "output_path": "__notebook__.ipynb",
   "parameters": {},
   "start_time": "2024-11-25T15:59:28.753065",
   "version": "2.5.0"
  }
 },
 "nbformat": 4,
 "nbformat_minor": 5
}
